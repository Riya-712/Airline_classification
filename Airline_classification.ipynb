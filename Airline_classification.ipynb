{
 "cells": [
  {
   "cell_type": "markdown",
   "id": "81f7d53b-8456-4805-914e-517f41672a21",
   "metadata": {},
   "source": [
    "## Riya Raut"
   ]
  },
  {
   "cell_type": "markdown",
   "id": "3b1331a7-a9ee-4b91-9f6c-0fc1e62e576b",
   "metadata": {},
   "source": [
    "### Roll No.- DS24MS23"
   ]
  },
  {
   "cell_type": "markdown",
   "id": "e9b4047f-8ef2-4d11-b480-3b053d0bb3fe",
   "metadata": {},
   "source": [
    "## Airline Passenger Referral Prediction"
   ]
  },
  {
   "cell_type": "markdown",
   "id": "37566870-94eb-479b-8d2f-821657a14309",
   "metadata": {},
   "source": [
    "### Problem Statement"
   ]
  },
  {
   "cell_type": "markdown",
   "id": "3c83fd9c-da58-40a6-8a6f-b2412c007eb6",
   "metadata": {},
   "source": [
    "Airlines is leveraging passenger review data from 2006 to 2019 to develop a predictive model that identifies which customers are likely to recommend the airline. This initiative aims to enhance customer experience, guide targeted service improvements, inform strategic marketing, and strengthen Airline competitive edge. By understanding key factors influencing referrals—such as comfort, service quality, and value—IndiGo can make data-driven decisions to boost customer satisfaction and brand loyalty."
   ]
  },
  {
   "cell_type": "markdown",
   "id": "23315f96-94be-4ab0-8176-684f04c6c236",
   "metadata": {},
   "source": [
    "### Importing necessary libraries"
   ]
  },
  {
   "cell_type": "code",
   "execution_count": 7,
   "id": "b428be1d-c6ac-49d1-b30e-e728507b3d47",
   "metadata": {},
   "outputs": [],
   "source": [
    "import numpy as np\n",
    "import pandas as pd\n",
    "import seaborn as sns\n",
    "from matplotlib import pyplot as plt\n",
    "%matplotlib inline\n",
    "\n",
    "import warnings\n",
    "warnings.filterwarnings('ignore')"
   ]
  },
  {
   "cell_type": "markdown",
   "id": "87c292ad-cb53-4114-83f3-72ca76718671",
   "metadata": {},
   "source": [
    "### Loading Dataset"
   ]
  },
  {
   "cell_type": "code",
   "execution_count": 9,
   "id": "4afe3a66-2450-406f-b24a-eafa9e5e76df",
   "metadata": {},
   "outputs": [],
   "source": [
    "df = pd.read_csv(\"https://raw.githubusercontent.com/Riya-712/Airline_classification/refs/heads/main/Airline_data.csv\")"
   ]
  },
  {
   "cell_type": "code",
   "execution_count": 10,
   "id": "5540a184-9d49-4f68-9483-14f5105be1e1",
   "metadata": {},
   "outputs": [
    {
     "data": {
      "text/html": [
       "<div>\n",
       "<style scoped>\n",
       "    .dataframe tbody tr th:only-of-type {\n",
       "        vertical-align: middle;\n",
       "    }\n",
       "\n",
       "    .dataframe tbody tr th {\n",
       "        vertical-align: top;\n",
       "    }\n",
       "\n",
       "    .dataframe thead th {\n",
       "        text-align: right;\n",
       "    }\n",
       "</style>\n",
       "<table border=\"1\" class=\"dataframe\">\n",
       "  <thead>\n",
       "    <tr style=\"text-align: right;\">\n",
       "      <th></th>\n",
       "      <th>Unnamed: 0</th>\n",
       "      <th>airline</th>\n",
       "      <th>overall</th>\n",
       "      <th>author</th>\n",
       "      <th>review_date</th>\n",
       "      <th>customer_review</th>\n",
       "      <th>aircraft</th>\n",
       "      <th>traveller_type</th>\n",
       "      <th>cabin</th>\n",
       "      <th>date_flown</th>\n",
       "      <th>seat_comfort</th>\n",
       "      <th>cabin_service</th>\n",
       "      <th>food_bev</th>\n",
       "      <th>entertainment</th>\n",
       "      <th>ground_service</th>\n",
       "      <th>value_for_money</th>\n",
       "      <th>recommended</th>\n",
       "      <th>sentiment</th>\n",
       "      <th>aircraft_brands</th>\n",
       "    </tr>\n",
       "  </thead>\n",
       "  <tbody>\n",
       "    <tr>\n",
       "      <th>0</th>\n",
       "      <td>7</td>\n",
       "      <td>Turkish Airlines</td>\n",
       "      <td>10.0</td>\n",
       "      <td>Zeshan Shah</td>\n",
       "      <td>6th May 2019</td>\n",
       "      <td>âœ… Trip Verified | Flew on Turkish Airlines I...</td>\n",
       "      <td>A330</td>\n",
       "      <td>Solo Leisure</td>\n",
       "      <td>Economy Class</td>\n",
       "      <td>April 2019</td>\n",
       "      <td>4.0</td>\n",
       "      <td>5.0</td>\n",
       "      <td>5.0</td>\n",
       "      <td>5.0</td>\n",
       "      <td>5.0</td>\n",
       "      <td>5.0</td>\n",
       "      <td>yes</td>\n",
       "      <td>positive</td>\n",
       "      <td>NaN</td>\n",
       "    </tr>\n",
       "    <tr>\n",
       "      <th>1</th>\n",
       "      <td>15</td>\n",
       "      <td>Turkish Airlines</td>\n",
       "      <td>2.0</td>\n",
       "      <td>S Gonser</td>\n",
       "      <td>29th April 2019</td>\n",
       "      <td>âœ… Trip Verified | Basel to Cape Town via Ist...</td>\n",
       "      <td>Boeing 737-800 / A330-300</td>\n",
       "      <td>Solo Leisure</td>\n",
       "      <td>Economy Class</td>\n",
       "      <td>April 2019</td>\n",
       "      <td>3.0</td>\n",
       "      <td>3.0</td>\n",
       "      <td>2.0</td>\n",
       "      <td>3.0</td>\n",
       "      <td>1.0</td>\n",
       "      <td>2.0</td>\n",
       "      <td>no</td>\n",
       "      <td>positive</td>\n",
       "      <td>Boeing</td>\n",
       "    </tr>\n",
       "    <tr>\n",
       "      <th>2</th>\n",
       "      <td>17</td>\n",
       "      <td>Turkish Airlines</td>\n",
       "      <td>6.0</td>\n",
       "      <td>Sami Osman</td>\n",
       "      <td>29th April 2019</td>\n",
       "      <td>Not Verified | Abu Dhabi to Luxembourg via Ist...</td>\n",
       "      <td>A320 / Boeing 737</td>\n",
       "      <td>Solo Leisure</td>\n",
       "      <td>Economy Class</td>\n",
       "      <td>April 2019</td>\n",
       "      <td>2.0</td>\n",
       "      <td>3.0</td>\n",
       "      <td>3.0</td>\n",
       "      <td>3.0</td>\n",
       "      <td>3.0</td>\n",
       "      <td>3.0</td>\n",
       "      <td>yes</td>\n",
       "      <td>positive</td>\n",
       "      <td>Boeing</td>\n",
       "    </tr>\n",
       "    <tr>\n",
       "      <th>3</th>\n",
       "      <td>19</td>\n",
       "      <td>Turkish Airlines</td>\n",
       "      <td>1.0</td>\n",
       "      <td>Norka Idalia Orlando</td>\n",
       "      <td>28th April 2019</td>\n",
       "      <td>âœ… Trip Verified | The experience with Turkis...</td>\n",
       "      <td>A320 / A330</td>\n",
       "      <td>Solo Leisure</td>\n",
       "      <td>Economy Class</td>\n",
       "      <td>February 2019</td>\n",
       "      <td>1.0</td>\n",
       "      <td>1.0</td>\n",
       "      <td>1.0</td>\n",
       "      <td>1.0</td>\n",
       "      <td>1.0</td>\n",
       "      <td>1.0</td>\n",
       "      <td>no</td>\n",
       "      <td>negative</td>\n",
       "      <td>NaN</td>\n",
       "    </tr>\n",
       "    <tr>\n",
       "      <th>4</th>\n",
       "      <td>29</td>\n",
       "      <td>Turkish Airlines</td>\n",
       "      <td>2.0</td>\n",
       "      <td>Trevor Khurana</td>\n",
       "      <td>24th April 2019</td>\n",
       "      <td>âœ… Trip Verified | Houston to Kiev via Istanb...</td>\n",
       "      <td>Boeing 777-300</td>\n",
       "      <td>Solo Leisure</td>\n",
       "      <td>Economy Class</td>\n",
       "      <td>March 2019</td>\n",
       "      <td>1.0</td>\n",
       "      <td>3.0</td>\n",
       "      <td>2.0</td>\n",
       "      <td>2.0</td>\n",
       "      <td>1.0</td>\n",
       "      <td>1.0</td>\n",
       "      <td>no</td>\n",
       "      <td>positive</td>\n",
       "      <td>Boeing</td>\n",
       "    </tr>\n",
       "  </tbody>\n",
       "</table>\n",
       "</div>"
      ],
      "text/plain": [
       "   Unnamed: 0           airline  overall                author  \\\n",
       "0           7  Turkish Airlines     10.0           Zeshan Shah   \n",
       "1          15  Turkish Airlines      2.0              S Gonser   \n",
       "2          17  Turkish Airlines      6.0            Sami Osman   \n",
       "3          19  Turkish Airlines      1.0  Norka Idalia Orlando   \n",
       "4          29  Turkish Airlines      2.0        Trevor Khurana   \n",
       "\n",
       "       review_date                                    customer_review  \\\n",
       "0     6th May 2019  âœ… Trip Verified | Flew on Turkish Airlines I...   \n",
       "1  29th April 2019  âœ… Trip Verified | Basel to Cape Town via Ist...   \n",
       "2  29th April 2019  Not Verified | Abu Dhabi to Luxembourg via Ist...   \n",
       "3  28th April 2019  âœ… Trip Verified | The experience with Turkis...   \n",
       "4  24th April 2019  âœ… Trip Verified | Houston to Kiev via Istanb...   \n",
       "\n",
       "                    aircraft traveller_type          cabin     date_flown  \\\n",
       "0                       A330   Solo Leisure  Economy Class     April 2019   \n",
       "1  Boeing 737-800 / A330-300   Solo Leisure  Economy Class     April 2019   \n",
       "2          A320 / Boeing 737   Solo Leisure  Economy Class     April 2019   \n",
       "3                A320 / A330   Solo Leisure  Economy Class  February 2019   \n",
       "4             Boeing 777-300   Solo Leisure  Economy Class     March 2019   \n",
       "\n",
       "   seat_comfort  cabin_service  food_bev  entertainment  ground_service  \\\n",
       "0           4.0            5.0       5.0            5.0             5.0   \n",
       "1           3.0            3.0       2.0            3.0             1.0   \n",
       "2           2.0            3.0       3.0            3.0             3.0   \n",
       "3           1.0            1.0       1.0            1.0             1.0   \n",
       "4           1.0            3.0       2.0            2.0             1.0   \n",
       "\n",
       "   value_for_money recommended sentiment aircraft_brands  \n",
       "0              5.0         yes  positive             NaN  \n",
       "1              2.0          no  positive          Boeing  \n",
       "2              3.0         yes  positive          Boeing  \n",
       "3              1.0          no  negative             NaN  \n",
       "4              1.0          no  positive          Boeing  "
      ]
     },
     "execution_count": 10,
     "metadata": {},
     "output_type": "execute_result"
    }
   ],
   "source": [
    "df.head()"
   ]
  },
  {
   "cell_type": "code",
   "execution_count": 11,
   "id": "ceaf5211-f91a-46be-bac8-8ffe5f8bc024",
   "metadata": {},
   "outputs": [
    {
     "data": {
      "text/plain": [
       "(14215, 19)"
      ]
     },
     "execution_count": 11,
     "metadata": {},
     "output_type": "execute_result"
    }
   ],
   "source": [
    "df.shape"
   ]
  },
  {
   "cell_type": "code",
   "execution_count": 12,
   "id": "6d3f7afa-32b2-4633-8a34-b43edb656a10",
   "metadata": {},
   "outputs": [
    {
     "name": "stdout",
     "output_type": "stream",
     "text": [
      "<class 'pandas.core.frame.DataFrame'>\n",
      "RangeIndex: 14215 entries, 0 to 14214\n",
      "Data columns (total 19 columns):\n",
      " #   Column           Non-Null Count  Dtype  \n",
      "---  ------           --------------  -----  \n",
      " 0   Unnamed: 0       14215 non-null  int64  \n",
      " 1   airline          14215 non-null  object \n",
      " 2   overall          14215 non-null  float64\n",
      " 3   author           14215 non-null  object \n",
      " 4   review_date      14215 non-null  object \n",
      " 5   customer_review  14215 non-null  object \n",
      " 6   aircraft         14215 non-null  object \n",
      " 7   traveller_type   14215 non-null  object \n",
      " 8   cabin            14215 non-null  object \n",
      " 9   date_flown       14215 non-null  object \n",
      " 10  seat_comfort     14215 non-null  float64\n",
      " 11  cabin_service    14215 non-null  float64\n",
      " 12  food_bev         14215 non-null  float64\n",
      " 13  entertainment    14215 non-null  float64\n",
      " 14  ground_service   14215 non-null  float64\n",
      " 15  value_for_money  14215 non-null  float64\n",
      " 16  recommended      14215 non-null  object \n",
      " 17  sentiment        14215 non-null  object \n",
      " 18  aircraft_brands  8509 non-null   object \n",
      "dtypes: float64(7), int64(1), object(11)\n",
      "memory usage: 2.1+ MB\n"
     ]
    }
   ],
   "source": [
    "df.info()"
   ]
  },
  {
   "cell_type": "code",
   "execution_count": 13,
   "id": "29991813-7a06-4df2-b076-32e368a421b1",
   "metadata": {},
   "outputs": [
    {
     "data": {
      "text/html": [
       "<div>\n",
       "<style scoped>\n",
       "    .dataframe tbody tr th:only-of-type {\n",
       "        vertical-align: middle;\n",
       "    }\n",
       "\n",
       "    .dataframe tbody tr th {\n",
       "        vertical-align: top;\n",
       "    }\n",
       "\n",
       "    .dataframe thead th {\n",
       "        text-align: right;\n",
       "    }\n",
       "</style>\n",
       "<table border=\"1\" class=\"dataframe\">\n",
       "  <thead>\n",
       "    <tr style=\"text-align: right;\">\n",
       "      <th></th>\n",
       "      <th>count</th>\n",
       "      <th>mean</th>\n",
       "      <th>std</th>\n",
       "      <th>min</th>\n",
       "      <th>25%</th>\n",
       "      <th>50%</th>\n",
       "      <th>75%</th>\n",
       "      <th>max</th>\n",
       "    </tr>\n",
       "  </thead>\n",
       "  <tbody>\n",
       "    <tr>\n",
       "      <th>Unnamed: 0</th>\n",
       "      <td>14215.0</td>\n",
       "      <td>56726.524376</td>\n",
       "      <td>36332.796264</td>\n",
       "      <td>7.0</td>\n",
       "      <td>25996.0</td>\n",
       "      <td>54269.0</td>\n",
       "      <td>85870.0</td>\n",
       "      <td>131712.0</td>\n",
       "    </tr>\n",
       "    <tr>\n",
       "      <th>overall</th>\n",
       "      <td>14215.0</td>\n",
       "      <td>6.483152</td>\n",
       "      <td>3.050922</td>\n",
       "      <td>1.0</td>\n",
       "      <td>4.0</td>\n",
       "      <td>8.0</td>\n",
       "      <td>9.0</td>\n",
       "      <td>10.0</td>\n",
       "    </tr>\n",
       "    <tr>\n",
       "      <th>seat_comfort</th>\n",
       "      <td>14215.0</td>\n",
       "      <td>3.492719</td>\n",
       "      <td>1.336645</td>\n",
       "      <td>1.0</td>\n",
       "      <td>3.0</td>\n",
       "      <td>4.0</td>\n",
       "      <td>5.0</td>\n",
       "      <td>5.0</td>\n",
       "    </tr>\n",
       "    <tr>\n",
       "      <th>cabin_service</th>\n",
       "      <td>14215.0</td>\n",
       "      <td>3.742948</td>\n",
       "      <td>1.417064</td>\n",
       "      <td>1.0</td>\n",
       "      <td>3.0</td>\n",
       "      <td>4.0</td>\n",
       "      <td>5.0</td>\n",
       "      <td>5.0</td>\n",
       "    </tr>\n",
       "    <tr>\n",
       "      <th>food_bev</th>\n",
       "      <td>14215.0</td>\n",
       "      <td>3.318044</td>\n",
       "      <td>1.425094</td>\n",
       "      <td>1.0</td>\n",
       "      <td>2.0</td>\n",
       "      <td>4.0</td>\n",
       "      <td>5.0</td>\n",
       "      <td>5.0</td>\n",
       "    </tr>\n",
       "    <tr>\n",
       "      <th>entertainment</th>\n",
       "      <td>14215.0</td>\n",
       "      <td>3.333873</td>\n",
       "      <td>1.398894</td>\n",
       "      <td>1.0</td>\n",
       "      <td>2.0</td>\n",
       "      <td>4.0</td>\n",
       "      <td>5.0</td>\n",
       "      <td>5.0</td>\n",
       "    </tr>\n",
       "    <tr>\n",
       "      <th>ground_service</th>\n",
       "      <td>14215.0</td>\n",
       "      <td>3.468801</td>\n",
       "      <td>1.412519</td>\n",
       "      <td>1.0</td>\n",
       "      <td>2.0</td>\n",
       "      <td>4.0</td>\n",
       "      <td>5.0</td>\n",
       "      <td>5.0</td>\n",
       "    </tr>\n",
       "    <tr>\n",
       "      <th>value_for_money</th>\n",
       "      <td>14215.0</td>\n",
       "      <td>3.564756</td>\n",
       "      <td>1.402578</td>\n",
       "      <td>1.0</td>\n",
       "      <td>3.0</td>\n",
       "      <td>4.0</td>\n",
       "      <td>5.0</td>\n",
       "      <td>5.0</td>\n",
       "    </tr>\n",
       "  </tbody>\n",
       "</table>\n",
       "</div>"
      ],
      "text/plain": [
       "                   count          mean           std  min      25%      50%  \\\n",
       "Unnamed: 0       14215.0  56726.524376  36332.796264  7.0  25996.0  54269.0   \n",
       "overall          14215.0      6.483152      3.050922  1.0      4.0      8.0   \n",
       "seat_comfort     14215.0      3.492719      1.336645  1.0      3.0      4.0   \n",
       "cabin_service    14215.0      3.742948      1.417064  1.0      3.0      4.0   \n",
       "food_bev         14215.0      3.318044      1.425094  1.0      2.0      4.0   \n",
       "entertainment    14215.0      3.333873      1.398894  1.0      2.0      4.0   \n",
       "ground_service   14215.0      3.468801      1.412519  1.0      2.0      4.0   \n",
       "value_for_money  14215.0      3.564756      1.402578  1.0      3.0      4.0   \n",
       "\n",
       "                     75%       max  \n",
       "Unnamed: 0       85870.0  131712.0  \n",
       "overall              9.0      10.0  \n",
       "seat_comfort         5.0       5.0  \n",
       "cabin_service        5.0       5.0  \n",
       "food_bev             5.0       5.0  \n",
       "entertainment        5.0       5.0  \n",
       "ground_service       5.0       5.0  \n",
       "value_for_money      5.0       5.0  "
      ]
     },
     "execution_count": 13,
     "metadata": {},
     "output_type": "execute_result"
    }
   ],
   "source": [
    "df.describe().T"
   ]
  },
  {
   "cell_type": "code",
   "execution_count": 14,
   "id": "a28091c4-31a6-4b0f-a4dd-37c98d336ee4",
   "metadata": {},
   "outputs": [
    {
     "data": {
      "text/plain": [
       "Index(['Unnamed: 0', 'airline', 'overall', 'author', 'review_date',\n",
       "       'customer_review', 'aircraft', 'traveller_type', 'cabin', 'date_flown',\n",
       "       'seat_comfort', 'cabin_service', 'food_bev', 'entertainment',\n",
       "       'ground_service', 'value_for_money', 'recommended', 'sentiment',\n",
       "       'aircraft_brands'],\n",
       "      dtype='object')"
      ]
     },
     "execution_count": 14,
     "metadata": {},
     "output_type": "execute_result"
    }
   ],
   "source": [
    "df.columns"
   ]
  },
  {
   "cell_type": "markdown",
   "id": "9860d21d-ba71-4a5c-9dd8-2e3644fce73d",
   "metadata": {},
   "source": [
    "### Data Prepositioning"
   ]
  },
  {
   "cell_type": "code",
   "execution_count": 16,
   "id": "e0bd9b8c-40b5-474a-9c99-f47efe3fd36b",
   "metadata": {},
   "outputs": [
    {
     "data": {
      "text/plain": [
       "Unnamed: 0            0\n",
       "airline               0\n",
       "overall               0\n",
       "author                0\n",
       "review_date           0\n",
       "customer_review       0\n",
       "aircraft              0\n",
       "traveller_type        0\n",
       "cabin                 0\n",
       "date_flown            0\n",
       "seat_comfort          0\n",
       "cabin_service         0\n",
       "food_bev              0\n",
       "entertainment         0\n",
       "ground_service        0\n",
       "value_for_money       0\n",
       "recommended           0\n",
       "sentiment             0\n",
       "aircraft_brands    5706\n",
       "dtype: int64"
      ]
     },
     "execution_count": 16,
     "metadata": {},
     "output_type": "execute_result"
    }
   ],
   "source": [
    "df.isnull().sum()"
   ]
  },
  {
   "cell_type": "code",
   "execution_count": 17,
   "id": "06e014df-e84f-4d94-9a8e-b4e01059d4a0",
   "metadata": {},
   "outputs": [],
   "source": [
    "# Dropping the aircraft_brands column as it contains many null values\n",
    "df.drop('aircraft_brands', axis = 1, inplace = True)"
   ]
  },
  {
   "cell_type": "code",
   "execution_count": 18,
   "id": "f93df137-ce5a-4aed-afea-39aaf7cfd95d",
   "metadata": {},
   "outputs": [
    {
     "data": {
      "text/plain": [
       "0"
      ]
     },
     "execution_count": 18,
     "metadata": {},
     "output_type": "execute_result"
    }
   ],
   "source": [
    "df.duplicated().sum()"
   ]
  },
  {
   "cell_type": "code",
   "execution_count": 19,
   "id": "21d1feb1-a3f8-4a02-895d-50fbefe36207",
   "metadata": {},
   "outputs": [],
   "source": [
    "# Dropping the columns which less likely to contribut to the dependent variable.\n",
    "df.drop(columns=[\"Unnamed: 0\", \"author\", \"customer_review\"], inplace=True)"
   ]
  },
  {
   "cell_type": "code",
   "execution_count": 20,
   "id": "17cea88e-b314-47f6-8588-36093386b79c",
   "metadata": {},
   "outputs": [
    {
     "data": {
      "text/html": [
       "<div>\n",
       "<style scoped>\n",
       "    .dataframe tbody tr th:only-of-type {\n",
       "        vertical-align: middle;\n",
       "    }\n",
       "\n",
       "    .dataframe tbody tr th {\n",
       "        vertical-align: top;\n",
       "    }\n",
       "\n",
       "    .dataframe thead th {\n",
       "        text-align: right;\n",
       "    }\n",
       "</style>\n",
       "<table border=\"1\" class=\"dataframe\">\n",
       "  <thead>\n",
       "    <tr style=\"text-align: right;\">\n",
       "      <th></th>\n",
       "      <th>airline</th>\n",
       "      <th>overall</th>\n",
       "      <th>review_date</th>\n",
       "      <th>aircraft</th>\n",
       "      <th>traveller_type</th>\n",
       "      <th>cabin</th>\n",
       "      <th>date_flown</th>\n",
       "      <th>seat_comfort</th>\n",
       "      <th>cabin_service</th>\n",
       "      <th>food_bev</th>\n",
       "      <th>entertainment</th>\n",
       "      <th>ground_service</th>\n",
       "      <th>value_for_money</th>\n",
       "      <th>recommended</th>\n",
       "      <th>sentiment</th>\n",
       "    </tr>\n",
       "  </thead>\n",
       "  <tbody>\n",
       "    <tr>\n",
       "      <th>0</th>\n",
       "      <td>Turkish Airlines</td>\n",
       "      <td>10.0</td>\n",
       "      <td>6th May 2019</td>\n",
       "      <td>A330</td>\n",
       "      <td>Solo Leisure</td>\n",
       "      <td>Economy Class</td>\n",
       "      <td>April 2019</td>\n",
       "      <td>4.0</td>\n",
       "      <td>5.0</td>\n",
       "      <td>5.0</td>\n",
       "      <td>5.0</td>\n",
       "      <td>5.0</td>\n",
       "      <td>5.0</td>\n",
       "      <td>yes</td>\n",
       "      <td>positive</td>\n",
       "    </tr>\n",
       "    <tr>\n",
       "      <th>1</th>\n",
       "      <td>Turkish Airlines</td>\n",
       "      <td>2.0</td>\n",
       "      <td>29th April 2019</td>\n",
       "      <td>Boeing 737-800 / A330-300</td>\n",
       "      <td>Solo Leisure</td>\n",
       "      <td>Economy Class</td>\n",
       "      <td>April 2019</td>\n",
       "      <td>3.0</td>\n",
       "      <td>3.0</td>\n",
       "      <td>2.0</td>\n",
       "      <td>3.0</td>\n",
       "      <td>1.0</td>\n",
       "      <td>2.0</td>\n",
       "      <td>no</td>\n",
       "      <td>positive</td>\n",
       "    </tr>\n",
       "    <tr>\n",
       "      <th>2</th>\n",
       "      <td>Turkish Airlines</td>\n",
       "      <td>6.0</td>\n",
       "      <td>29th April 2019</td>\n",
       "      <td>A320 / Boeing 737</td>\n",
       "      <td>Solo Leisure</td>\n",
       "      <td>Economy Class</td>\n",
       "      <td>April 2019</td>\n",
       "      <td>2.0</td>\n",
       "      <td>3.0</td>\n",
       "      <td>3.0</td>\n",
       "      <td>3.0</td>\n",
       "      <td>3.0</td>\n",
       "      <td>3.0</td>\n",
       "      <td>yes</td>\n",
       "      <td>positive</td>\n",
       "    </tr>\n",
       "    <tr>\n",
       "      <th>3</th>\n",
       "      <td>Turkish Airlines</td>\n",
       "      <td>1.0</td>\n",
       "      <td>28th April 2019</td>\n",
       "      <td>A320 / A330</td>\n",
       "      <td>Solo Leisure</td>\n",
       "      <td>Economy Class</td>\n",
       "      <td>February 2019</td>\n",
       "      <td>1.0</td>\n",
       "      <td>1.0</td>\n",
       "      <td>1.0</td>\n",
       "      <td>1.0</td>\n",
       "      <td>1.0</td>\n",
       "      <td>1.0</td>\n",
       "      <td>no</td>\n",
       "      <td>negative</td>\n",
       "    </tr>\n",
       "    <tr>\n",
       "      <th>4</th>\n",
       "      <td>Turkish Airlines</td>\n",
       "      <td>2.0</td>\n",
       "      <td>24th April 2019</td>\n",
       "      <td>Boeing 777-300</td>\n",
       "      <td>Solo Leisure</td>\n",
       "      <td>Economy Class</td>\n",
       "      <td>March 2019</td>\n",
       "      <td>1.0</td>\n",
       "      <td>3.0</td>\n",
       "      <td>2.0</td>\n",
       "      <td>2.0</td>\n",
       "      <td>1.0</td>\n",
       "      <td>1.0</td>\n",
       "      <td>no</td>\n",
       "      <td>positive</td>\n",
       "    </tr>\n",
       "  </tbody>\n",
       "</table>\n",
       "</div>"
      ],
      "text/plain": [
       "            airline  overall      review_date                   aircraft  \\\n",
       "0  Turkish Airlines     10.0     6th May 2019                       A330   \n",
       "1  Turkish Airlines      2.0  29th April 2019  Boeing 737-800 / A330-300   \n",
       "2  Turkish Airlines      6.0  29th April 2019          A320 / Boeing 737   \n",
       "3  Turkish Airlines      1.0  28th April 2019                A320 / A330   \n",
       "4  Turkish Airlines      2.0  24th April 2019             Boeing 777-300   \n",
       "\n",
       "  traveller_type          cabin     date_flown  seat_comfort  cabin_service  \\\n",
       "0   Solo Leisure  Economy Class     April 2019           4.0            5.0   \n",
       "1   Solo Leisure  Economy Class     April 2019           3.0            3.0   \n",
       "2   Solo Leisure  Economy Class     April 2019           2.0            3.0   \n",
       "3   Solo Leisure  Economy Class  February 2019           1.0            1.0   \n",
       "4   Solo Leisure  Economy Class     March 2019           1.0            3.0   \n",
       "\n",
       "   food_bev  entertainment  ground_service  value_for_money recommended  \\\n",
       "0       5.0            5.0             5.0              5.0         yes   \n",
       "1       2.0            3.0             1.0              2.0          no   \n",
       "2       3.0            3.0             3.0              3.0         yes   \n",
       "3       1.0            1.0             1.0              1.0          no   \n",
       "4       2.0            2.0             1.0              1.0          no   \n",
       "\n",
       "  sentiment  \n",
       "0  positive  \n",
       "1  positive  \n",
       "2  positive  \n",
       "3  negative  \n",
       "4  positive  "
      ]
     },
     "execution_count": 20,
     "metadata": {},
     "output_type": "execute_result"
    }
   ],
   "source": [
    "df.head()"
   ]
  },
  {
   "cell_type": "code",
   "execution_count": 21,
   "id": "b132e5b7-1b2e-4183-af1f-ac2929c04903",
   "metadata": {},
   "outputs": [
    {
     "data": {
      "text/plain": [
       "(14215, 15)"
      ]
     },
     "execution_count": 21,
     "metadata": {},
     "output_type": "execute_result"
    }
   ],
   "source": [
    "df.shape"
   ]
  },
  {
   "cell_type": "code",
   "execution_count": 22,
   "id": "64fa9dca-b1e3-49ed-b832-3fe18ed18b06",
   "metadata": {},
   "outputs": [
    {
     "name": "stdout",
     "output_type": "stream",
     "text": [
      "<class 'pandas.core.frame.DataFrame'>\n",
      "RangeIndex: 14215 entries, 0 to 14214\n",
      "Data columns (total 15 columns):\n",
      " #   Column           Non-Null Count  Dtype  \n",
      "---  ------           --------------  -----  \n",
      " 0   airline          14215 non-null  object \n",
      " 1   overall          14215 non-null  float64\n",
      " 2   review_date      14215 non-null  object \n",
      " 3   aircraft         14215 non-null  object \n",
      " 4   traveller_type   14215 non-null  object \n",
      " 5   cabin            14215 non-null  object \n",
      " 6   date_flown       14215 non-null  object \n",
      " 7   seat_comfort     14215 non-null  float64\n",
      " 8   cabin_service    14215 non-null  float64\n",
      " 9   food_bev         14215 non-null  float64\n",
      " 10  entertainment    14215 non-null  float64\n",
      " 11  ground_service   14215 non-null  float64\n",
      " 12  value_for_money  14215 non-null  float64\n",
      " 13  recommended      14215 non-null  object \n",
      " 14  sentiment        14215 non-null  object \n",
      "dtypes: float64(7), object(8)\n",
      "memory usage: 1.6+ MB\n"
     ]
    }
   ],
   "source": [
    "df.info()"
   ]
  },
  {
   "cell_type": "code",
   "execution_count": 23,
   "id": "9dc8425d-5766-484a-85a8-edcb856b5bbc",
   "metadata": {},
   "outputs": [
    {
     "name": "stdout",
     "output_type": "stream",
     "text": [
      "airline \n",
      " ['Turkish Airlines' 'Qatar Airways' 'Emirates' 'Lufthansa'\n",
      " 'KLM Royal Dutch Airlines' 'Virgin America' 'American Airlines'\n",
      " 'Delta Air Lines' 'Southwest Airlines' 'United Airlines'\n",
      " 'Jetblue Airways' 'Aegean Airlines' 'Aeroflot Russian Airlines'\n",
      " 'Aeromexico' 'Air Canada' 'Air New Zealand' 'Alitalia' 'AirAsia'\n",
      " 'Asiana Airlines' 'Avianca' 'Austrian Airlines' 'British Airways'\n",
      " 'Brussels Airlines' 'China Eastern Airlines' 'China Southern Airlines'\n",
      " 'Copa Airlines' 'Ethiopian Airlines' 'Egyptair' 'Finnair' 'Iberia'\n",
      " 'ANA All Nippon Airways' 'easyJet' 'Korean Air' 'LATAM Airlines'\n",
      " 'LOT Polish Airlines' 'Qantas Airways' 'Air France' 'Etihad Airways'\n",
      " 'Pegasus Airlines' 'Royal Jordanian Airlines' 'Ryanair'\n",
      " 'South African Airways' 'Saudi Arabian Airlines' 'TAP Portugal'\n",
      " 'Eurowings' 'EVA Air' 'Royal Air Maroc' 'Singapore Airlines'\n",
      " 'SAS Scandinavian' 'Swiss Intl Air Lines' 'Thai Airways' 'Air India'\n",
      " 'Air Europa' 'Air Canada rouge' 'airBaltic' 'Air China'\n",
      " 'Cathay Pacific Airways' 'Wizz Air' 'Spirit Airlines' 'TAROM Romanian'\n",
      " 'Vueling Airlines' 'Sunwing Airlines' 'QantasLink' 'Bangkok Airways'\n",
      " 'flydubai' 'Garuda Indonesia' 'Germanwings' 'Frontier Airlines'\n",
      " 'Icelandair' 'IndiGo' 'Aer Lingus' 'Adria Airways' 'Air Arabia'\n",
      " 'Alaska Airlines' 'Tunisair' 'Norwegian' 'Thai Smile Airways' 'Gulf Air'\n",
      " 'Kuwait Airways' 'WOW air' 'Ukraine International'] \n",
      "\n",
      "overall \n",
      " [10.  2.  6.  1.  5.  7.  8.  9.  4.  3.] \n",
      "\n",
      "review_date \n",
      " ['6th May 2019' '29th April 2019' '28th April 2019' ... '28th May 2019'\n",
      " '12th May 2019' '31st May 2019'] \n",
      "\n",
      "aircraft \n",
      " ['A330' 'Boeing 737-800 / A330-300' 'A320 / Boeing 737' ...\n",
      " 'Boeing 767 / Boeing 737' 'A320 / Boeing 767/737' 'boeing 767'] \n",
      "\n",
      "traveller_type \n",
      " ['Solo Leisure' 'Couple Leisure' 'Business' 'Family Leisure' 'Traveller'] \n",
      "\n",
      "cabin \n",
      " ['Economy Class' 'Business Class' 'First Class' 'Premium Economy'] \n",
      "\n",
      "date_flown \n",
      " ['April 2019' 'February 2019' 'March 2019' 'April 2018' 'January 2019'\n",
      " 'November 2018' 'December 2018' 'September 2018' 'October 2018'\n",
      " 'August 2018' 'July 2018' 'June 2018' 'January 2018' 'May-18'\n",
      " 'December 2017' 'March 2018' 'February 2018' 'November 2017'\n",
      " 'August 2017' 'October 2017' 'July 2017' 'November 2016' 'September 2017'\n",
      " 'June 2017' 'May-17' 'April 2017' 'March 2017' 'February 2017'\n",
      " 'January 2017' 'October 2016' 'December 2016' 'September 2016'\n",
      " 'March 2016' 'May-16' 'August 2016' 'December 2015' 'June 2016'\n",
      " 'July 2016' 'April 2016' 'February 2016' 'January 2016' 'May-15'\n",
      " 'July 2015' 'June 2015' 'November 2015' 'August 2015' 'October 2015'\n",
      " 'February 2015' 'December 2014' 'September 2015' 'January 2015' 'May-19'\n",
      " 'March 2015' 'April 2015' 'July 2014' 'November 2014' 'August 2014'\n",
      " 'September 2014' 'October 2014' 'May-14' 'March 2013' 'April 2013'\n",
      " 'June 2019'] \n",
      "\n",
      "seat_comfort \n",
      " [4. 3. 2. 1. 5.] \n",
      "\n",
      "cabin_service \n",
      " [5. 3. 1. 2. 4.] \n",
      "\n",
      "food_bev \n",
      " [5. 2. 3. 1. 4.] \n",
      "\n",
      "entertainment \n",
      " [5. 3. 1. 2. 4.] \n",
      "\n",
      "ground_service \n",
      " [5. 1. 3. 2. 4.] \n",
      "\n",
      "value_for_money \n",
      " [5. 2. 3. 1. 4.] \n",
      "\n",
      "recommended \n",
      " ['yes' 'no'] \n",
      "\n",
      "sentiment \n",
      " ['positive' 'negative'] \n",
      "\n"
     ]
    }
   ],
   "source": [
    "for i in df.columns:\n",
    "    print(i,\"\\n\",df[i].unique(),\"\\n\")"
   ]
  },
  {
   "cell_type": "markdown",
   "id": "7da7d3d9-cc5f-4c68-b541-162450a5c522",
   "metadata": {},
   "source": [
    "#### Changing the data types"
   ]
  },
  {
   "cell_type": "code",
   "execution_count": 25,
   "id": "a145f0a5-7e9f-4ad0-8bb5-ae071baf42f8",
   "metadata": {},
   "outputs": [],
   "source": [
    "df['seat_comfort'] = df['seat_comfort'].astype(int)\n",
    "df['cabin_service'] = df['cabin_service'].astype(int)\n",
    "df['food_bev'] = df['food_bev'].astype(int)\n",
    "df['entertainment'] = df['entertainment'].astype(int)\n",
    "df['ground_service'] = df['ground_service'].astype(int)\n",
    "df['value_for_money'] = df['value_for_money'].astype(int)\n",
    "df['overall'] = df['overall'].astype(int)"
   ]
  },
  {
   "cell_type": "code",
   "execution_count": 26,
   "id": "ee73349e-879f-4a68-81ca-c97640417cd2",
   "metadata": {},
   "outputs": [
    {
     "name": "stdout",
     "output_type": "stream",
     "text": [
      "<class 'pandas.core.frame.DataFrame'>\n",
      "RangeIndex: 14215 entries, 0 to 14214\n",
      "Data columns (total 15 columns):\n",
      " #   Column           Non-Null Count  Dtype \n",
      "---  ------           --------------  ----- \n",
      " 0   airline          14215 non-null  object\n",
      " 1   overall          14215 non-null  int32 \n",
      " 2   review_date      14215 non-null  object\n",
      " 3   aircraft         14215 non-null  object\n",
      " 4   traveller_type   14215 non-null  object\n",
      " 5   cabin            14215 non-null  object\n",
      " 6   date_flown       14215 non-null  object\n",
      " 7   seat_comfort     14215 non-null  int32 \n",
      " 8   cabin_service    14215 non-null  int32 \n",
      " 9   food_bev         14215 non-null  int32 \n",
      " 10  entertainment    14215 non-null  int32 \n",
      " 11  ground_service   14215 non-null  int32 \n",
      " 12  value_for_money  14215 non-null  int32 \n",
      " 13  recommended      14215 non-null  object\n",
      " 14  sentiment        14215 non-null  object\n",
      "dtypes: int32(7), object(8)\n",
      "memory usage: 1.2+ MB\n"
     ]
    }
   ],
   "source": [
    "df.info()"
   ]
  },
  {
   "cell_type": "markdown",
   "id": "22d29ab1-72ab-45b1-88c9-c9894fcf9d02",
   "metadata": {},
   "source": [
    "#### Changing the data type and extracting month and year"
   ]
  },
  {
   "cell_type": "code",
   "execution_count": 28,
   "id": "c20c1043-7015-4550-a49d-7bde712249c2",
   "metadata": {},
   "outputs": [],
   "source": [
    "df['date_flown'] = pd.to_datetime(df['date_flown'], errors = 'coerce')"
   ]
  },
  {
   "cell_type": "code",
   "execution_count": 29,
   "id": "8de76c65-b54f-4bc2-9782-61ee0ece2125",
   "metadata": {},
   "outputs": [],
   "source": [
    "import datetime as dt\n",
    "\n",
    "df[\"year\"] = df[\"date_flown\"].dt.year\n",
    "df[\"month\"] = df[\"date_flown\"].dt.month"
   ]
  },
  {
   "cell_type": "code",
   "execution_count": 30,
   "id": "cb4b63a7-4d76-4777-8d2a-33ec1cb6bf33",
   "metadata": {},
   "outputs": [],
   "source": [
    "# creating new columns of day, month and year\n",
    "df[\"year\"] = df[\"date_flown\"].dt.year\n",
    "df[\"month\"] = df[\"date_flown\"].dt.month"
   ]
  },
  {
   "cell_type": "code",
   "execution_count": 31,
   "id": "51af745c-765b-458c-8b2d-e8079fa40b41",
   "metadata": {},
   "outputs": [
    {
     "data": {
      "text/html": [
       "<div>\n",
       "<style scoped>\n",
       "    .dataframe tbody tr th:only-of-type {\n",
       "        vertical-align: middle;\n",
       "    }\n",
       "\n",
       "    .dataframe tbody tr th {\n",
       "        vertical-align: top;\n",
       "    }\n",
       "\n",
       "    .dataframe thead th {\n",
       "        text-align: right;\n",
       "    }\n",
       "</style>\n",
       "<table border=\"1\" class=\"dataframe\">\n",
       "  <thead>\n",
       "    <tr style=\"text-align: right;\">\n",
       "      <th></th>\n",
       "      <th>airline</th>\n",
       "      <th>overall</th>\n",
       "      <th>review_date</th>\n",
       "      <th>aircraft</th>\n",
       "      <th>traveller_type</th>\n",
       "      <th>cabin</th>\n",
       "      <th>date_flown</th>\n",
       "      <th>seat_comfort</th>\n",
       "      <th>cabin_service</th>\n",
       "      <th>food_bev</th>\n",
       "      <th>entertainment</th>\n",
       "      <th>ground_service</th>\n",
       "      <th>value_for_money</th>\n",
       "      <th>recommended</th>\n",
       "      <th>sentiment</th>\n",
       "      <th>year</th>\n",
       "      <th>month</th>\n",
       "    </tr>\n",
       "  </thead>\n",
       "  <tbody>\n",
       "    <tr>\n",
       "      <th>0</th>\n",
       "      <td>Turkish Airlines</td>\n",
       "      <td>10</td>\n",
       "      <td>6th May 2019</td>\n",
       "      <td>A330</td>\n",
       "      <td>Solo Leisure</td>\n",
       "      <td>Economy Class</td>\n",
       "      <td>2019-04-01</td>\n",
       "      <td>4</td>\n",
       "      <td>5</td>\n",
       "      <td>5</td>\n",
       "      <td>5</td>\n",
       "      <td>5</td>\n",
       "      <td>5</td>\n",
       "      <td>yes</td>\n",
       "      <td>positive</td>\n",
       "      <td>2019.0</td>\n",
       "      <td>4.0</td>\n",
       "    </tr>\n",
       "    <tr>\n",
       "      <th>1</th>\n",
       "      <td>Turkish Airlines</td>\n",
       "      <td>2</td>\n",
       "      <td>29th April 2019</td>\n",
       "      <td>Boeing 737-800 / A330-300</td>\n",
       "      <td>Solo Leisure</td>\n",
       "      <td>Economy Class</td>\n",
       "      <td>2019-04-01</td>\n",
       "      <td>3</td>\n",
       "      <td>3</td>\n",
       "      <td>2</td>\n",
       "      <td>3</td>\n",
       "      <td>1</td>\n",
       "      <td>2</td>\n",
       "      <td>no</td>\n",
       "      <td>positive</td>\n",
       "      <td>2019.0</td>\n",
       "      <td>4.0</td>\n",
       "    </tr>\n",
       "    <tr>\n",
       "      <th>2</th>\n",
       "      <td>Turkish Airlines</td>\n",
       "      <td>6</td>\n",
       "      <td>29th April 2019</td>\n",
       "      <td>A320 / Boeing 737</td>\n",
       "      <td>Solo Leisure</td>\n",
       "      <td>Economy Class</td>\n",
       "      <td>2019-04-01</td>\n",
       "      <td>2</td>\n",
       "      <td>3</td>\n",
       "      <td>3</td>\n",
       "      <td>3</td>\n",
       "      <td>3</td>\n",
       "      <td>3</td>\n",
       "      <td>yes</td>\n",
       "      <td>positive</td>\n",
       "      <td>2019.0</td>\n",
       "      <td>4.0</td>\n",
       "    </tr>\n",
       "    <tr>\n",
       "      <th>3</th>\n",
       "      <td>Turkish Airlines</td>\n",
       "      <td>1</td>\n",
       "      <td>28th April 2019</td>\n",
       "      <td>A320 / A330</td>\n",
       "      <td>Solo Leisure</td>\n",
       "      <td>Economy Class</td>\n",
       "      <td>2019-02-01</td>\n",
       "      <td>1</td>\n",
       "      <td>1</td>\n",
       "      <td>1</td>\n",
       "      <td>1</td>\n",
       "      <td>1</td>\n",
       "      <td>1</td>\n",
       "      <td>no</td>\n",
       "      <td>negative</td>\n",
       "      <td>2019.0</td>\n",
       "      <td>2.0</td>\n",
       "    </tr>\n",
       "    <tr>\n",
       "      <th>4</th>\n",
       "      <td>Turkish Airlines</td>\n",
       "      <td>2</td>\n",
       "      <td>24th April 2019</td>\n",
       "      <td>Boeing 777-300</td>\n",
       "      <td>Solo Leisure</td>\n",
       "      <td>Economy Class</td>\n",
       "      <td>2019-03-01</td>\n",
       "      <td>1</td>\n",
       "      <td>3</td>\n",
       "      <td>2</td>\n",
       "      <td>2</td>\n",
       "      <td>1</td>\n",
       "      <td>1</td>\n",
       "      <td>no</td>\n",
       "      <td>positive</td>\n",
       "      <td>2019.0</td>\n",
       "      <td>3.0</td>\n",
       "    </tr>\n",
       "  </tbody>\n",
       "</table>\n",
       "</div>"
      ],
      "text/plain": [
       "            airline  overall      review_date                   aircraft  \\\n",
       "0  Turkish Airlines       10     6th May 2019                       A330   \n",
       "1  Turkish Airlines        2  29th April 2019  Boeing 737-800 / A330-300   \n",
       "2  Turkish Airlines        6  29th April 2019          A320 / Boeing 737   \n",
       "3  Turkish Airlines        1  28th April 2019                A320 / A330   \n",
       "4  Turkish Airlines        2  24th April 2019             Boeing 777-300   \n",
       "\n",
       "  traveller_type          cabin date_flown  seat_comfort  cabin_service  \\\n",
       "0   Solo Leisure  Economy Class 2019-04-01             4              5   \n",
       "1   Solo Leisure  Economy Class 2019-04-01             3              3   \n",
       "2   Solo Leisure  Economy Class 2019-04-01             2              3   \n",
       "3   Solo Leisure  Economy Class 2019-02-01             1              1   \n",
       "4   Solo Leisure  Economy Class 2019-03-01             1              3   \n",
       "\n",
       "   food_bev  entertainment  ground_service  value_for_money recommended  \\\n",
       "0         5              5               5                5         yes   \n",
       "1         2              3               1                2          no   \n",
       "2         3              3               3                3         yes   \n",
       "3         1              1               1                1          no   \n",
       "4         2              2               1                1          no   \n",
       "\n",
       "  sentiment    year  month  \n",
       "0  positive  2019.0    4.0  \n",
       "1  positive  2019.0    4.0  \n",
       "2  positive  2019.0    4.0  \n",
       "3  negative  2019.0    2.0  \n",
       "4  positive  2019.0    3.0  "
      ]
     },
     "execution_count": 31,
     "metadata": {},
     "output_type": "execute_result"
    }
   ],
   "source": [
    "df.head()"
   ]
  },
  {
   "cell_type": "code",
   "execution_count": 32,
   "id": "ab45c745-749a-4a54-b9fc-09f272b8c685",
   "metadata": {},
   "outputs": [
    {
     "data": {
      "text/html": [
       "<div>\n",
       "<style scoped>\n",
       "    .dataframe tbody tr th:only-of-type {\n",
       "        vertical-align: middle;\n",
       "    }\n",
       "\n",
       "    .dataframe tbody tr th {\n",
       "        vertical-align: top;\n",
       "    }\n",
       "\n",
       "    .dataframe thead th {\n",
       "        text-align: right;\n",
       "    }\n",
       "</style>\n",
       "<table border=\"1\" class=\"dataframe\">\n",
       "  <thead>\n",
       "    <tr style=\"text-align: right;\">\n",
       "      <th></th>\n",
       "      <th>airline</th>\n",
       "      <th>overall</th>\n",
       "      <th>aircraft</th>\n",
       "      <th>traveller_type</th>\n",
       "      <th>cabin</th>\n",
       "      <th>date_flown</th>\n",
       "      <th>seat_comfort</th>\n",
       "      <th>cabin_service</th>\n",
       "      <th>food_bev</th>\n",
       "      <th>entertainment</th>\n",
       "      <th>ground_service</th>\n",
       "      <th>value_for_money</th>\n",
       "      <th>recommended</th>\n",
       "      <th>sentiment</th>\n",
       "      <th>year</th>\n",
       "      <th>month</th>\n",
       "    </tr>\n",
       "  </thead>\n",
       "  <tbody>\n",
       "    <tr>\n",
       "      <th>0</th>\n",
       "      <td>Turkish Airlines</td>\n",
       "      <td>10</td>\n",
       "      <td>A330</td>\n",
       "      <td>Solo Leisure</td>\n",
       "      <td>Economy Class</td>\n",
       "      <td>2019-04-01</td>\n",
       "      <td>4</td>\n",
       "      <td>5</td>\n",
       "      <td>5</td>\n",
       "      <td>5</td>\n",
       "      <td>5</td>\n",
       "      <td>5</td>\n",
       "      <td>yes</td>\n",
       "      <td>positive</td>\n",
       "      <td>2019.0</td>\n",
       "      <td>4.0</td>\n",
       "    </tr>\n",
       "    <tr>\n",
       "      <th>1</th>\n",
       "      <td>Turkish Airlines</td>\n",
       "      <td>2</td>\n",
       "      <td>Boeing 737-800 / A330-300</td>\n",
       "      <td>Solo Leisure</td>\n",
       "      <td>Economy Class</td>\n",
       "      <td>2019-04-01</td>\n",
       "      <td>3</td>\n",
       "      <td>3</td>\n",
       "      <td>2</td>\n",
       "      <td>3</td>\n",
       "      <td>1</td>\n",
       "      <td>2</td>\n",
       "      <td>no</td>\n",
       "      <td>positive</td>\n",
       "      <td>2019.0</td>\n",
       "      <td>4.0</td>\n",
       "    </tr>\n",
       "    <tr>\n",
       "      <th>2</th>\n",
       "      <td>Turkish Airlines</td>\n",
       "      <td>6</td>\n",
       "      <td>A320 / Boeing 737</td>\n",
       "      <td>Solo Leisure</td>\n",
       "      <td>Economy Class</td>\n",
       "      <td>2019-04-01</td>\n",
       "      <td>2</td>\n",
       "      <td>3</td>\n",
       "      <td>3</td>\n",
       "      <td>3</td>\n",
       "      <td>3</td>\n",
       "      <td>3</td>\n",
       "      <td>yes</td>\n",
       "      <td>positive</td>\n",
       "      <td>2019.0</td>\n",
       "      <td>4.0</td>\n",
       "    </tr>\n",
       "    <tr>\n",
       "      <th>3</th>\n",
       "      <td>Turkish Airlines</td>\n",
       "      <td>1</td>\n",
       "      <td>A320 / A330</td>\n",
       "      <td>Solo Leisure</td>\n",
       "      <td>Economy Class</td>\n",
       "      <td>2019-02-01</td>\n",
       "      <td>1</td>\n",
       "      <td>1</td>\n",
       "      <td>1</td>\n",
       "      <td>1</td>\n",
       "      <td>1</td>\n",
       "      <td>1</td>\n",
       "      <td>no</td>\n",
       "      <td>negative</td>\n",
       "      <td>2019.0</td>\n",
       "      <td>2.0</td>\n",
       "    </tr>\n",
       "    <tr>\n",
       "      <th>4</th>\n",
       "      <td>Turkish Airlines</td>\n",
       "      <td>2</td>\n",
       "      <td>Boeing 777-300</td>\n",
       "      <td>Solo Leisure</td>\n",
       "      <td>Economy Class</td>\n",
       "      <td>2019-03-01</td>\n",
       "      <td>1</td>\n",
       "      <td>3</td>\n",
       "      <td>2</td>\n",
       "      <td>2</td>\n",
       "      <td>1</td>\n",
       "      <td>1</td>\n",
       "      <td>no</td>\n",
       "      <td>positive</td>\n",
       "      <td>2019.0</td>\n",
       "      <td>3.0</td>\n",
       "    </tr>\n",
       "    <tr>\n",
       "      <th>...</th>\n",
       "      <td>...</td>\n",
       "      <td>...</td>\n",
       "      <td>...</td>\n",
       "      <td>...</td>\n",
       "      <td>...</td>\n",
       "      <td>...</td>\n",
       "      <td>...</td>\n",
       "      <td>...</td>\n",
       "      <td>...</td>\n",
       "      <td>...</td>\n",
       "      <td>...</td>\n",
       "      <td>...</td>\n",
       "      <td>...</td>\n",
       "      <td>...</td>\n",
       "      <td>...</td>\n",
       "      <td>...</td>\n",
       "    </tr>\n",
       "    <tr>\n",
       "      <th>14210</th>\n",
       "      <td>Ukraine International</td>\n",
       "      <td>6</td>\n",
       "      <td>Boeing 767</td>\n",
       "      <td>Solo Leisure</td>\n",
       "      <td>Economy Class</td>\n",
       "      <td>2015-09-01</td>\n",
       "      <td>2</td>\n",
       "      <td>4</td>\n",
       "      <td>2</td>\n",
       "      <td>1</td>\n",
       "      <td>4</td>\n",
       "      <td>5</td>\n",
       "      <td>yes</td>\n",
       "      <td>positive</td>\n",
       "      <td>2015.0</td>\n",
       "      <td>9.0</td>\n",
       "    </tr>\n",
       "    <tr>\n",
       "      <th>14211</th>\n",
       "      <td>Ukraine International</td>\n",
       "      <td>7</td>\n",
       "      <td>Boeing 767</td>\n",
       "      <td>Couple Leisure</td>\n",
       "      <td>Economy Class</td>\n",
       "      <td>2015-01-01</td>\n",
       "      <td>2</td>\n",
       "      <td>2</td>\n",
       "      <td>2</td>\n",
       "      <td>1</td>\n",
       "      <td>2</td>\n",
       "      <td>5</td>\n",
       "      <td>yes</td>\n",
       "      <td>positive</td>\n",
       "      <td>2015.0</td>\n",
       "      <td>1.0</td>\n",
       "    </tr>\n",
       "    <tr>\n",
       "      <th>14212</th>\n",
       "      <td>Ukraine International</td>\n",
       "      <td>1</td>\n",
       "      <td>Boeing</td>\n",
       "      <td>Family Leisure</td>\n",
       "      <td>Economy Class</td>\n",
       "      <td>2015-07-01</td>\n",
       "      <td>1</td>\n",
       "      <td>1</td>\n",
       "      <td>1</td>\n",
       "      <td>1</td>\n",
       "      <td>1</td>\n",
       "      <td>1</td>\n",
       "      <td>no</td>\n",
       "      <td>positive</td>\n",
       "      <td>2015.0</td>\n",
       "      <td>7.0</td>\n",
       "    </tr>\n",
       "    <tr>\n",
       "      <th>14213</th>\n",
       "      <td>Ukraine International</td>\n",
       "      <td>10</td>\n",
       "      <td>Boeing 737</td>\n",
       "      <td>Couple Leisure</td>\n",
       "      <td>Economy Class</td>\n",
       "      <td>2015-07-01</td>\n",
       "      <td>5</td>\n",
       "      <td>5</td>\n",
       "      <td>5</td>\n",
       "      <td>4</td>\n",
       "      <td>4</td>\n",
       "      <td>4</td>\n",
       "      <td>yes</td>\n",
       "      <td>positive</td>\n",
       "      <td>2015.0</td>\n",
       "      <td>7.0</td>\n",
       "    </tr>\n",
       "    <tr>\n",
       "      <th>14214</th>\n",
       "      <td>Ukraine International</td>\n",
       "      <td>5</td>\n",
       "      <td>boeing 767</td>\n",
       "      <td>Couple Leisure</td>\n",
       "      <td>Economy Class</td>\n",
       "      <td>2015-06-01</td>\n",
       "      <td>1</td>\n",
       "      <td>1</td>\n",
       "      <td>1</td>\n",
       "      <td>3</td>\n",
       "      <td>1</td>\n",
       "      <td>5</td>\n",
       "      <td>no</td>\n",
       "      <td>negative</td>\n",
       "      <td>2015.0</td>\n",
       "      <td>6.0</td>\n",
       "    </tr>\n",
       "  </tbody>\n",
       "</table>\n",
       "<p>14215 rows × 16 columns</p>\n",
       "</div>"
      ],
      "text/plain": [
       "                     airline  overall                   aircraft  \\\n",
       "0           Turkish Airlines       10                       A330   \n",
       "1           Turkish Airlines        2  Boeing 737-800 / A330-300   \n",
       "2           Turkish Airlines        6          A320 / Boeing 737   \n",
       "3           Turkish Airlines        1                A320 / A330   \n",
       "4           Turkish Airlines        2             Boeing 777-300   \n",
       "...                      ...      ...                        ...   \n",
       "14210  Ukraine International        6                 Boeing 767   \n",
       "14211  Ukraine International        7                 Boeing 767   \n",
       "14212  Ukraine International        1                     Boeing   \n",
       "14213  Ukraine International       10                 Boeing 737   \n",
       "14214  Ukraine International        5                 boeing 767   \n",
       "\n",
       "       traveller_type          cabin date_flown  seat_comfort  cabin_service  \\\n",
       "0        Solo Leisure  Economy Class 2019-04-01             4              5   \n",
       "1        Solo Leisure  Economy Class 2019-04-01             3              3   \n",
       "2        Solo Leisure  Economy Class 2019-04-01             2              3   \n",
       "3        Solo Leisure  Economy Class 2019-02-01             1              1   \n",
       "4        Solo Leisure  Economy Class 2019-03-01             1              3   \n",
       "...               ...            ...        ...           ...            ...   \n",
       "14210    Solo Leisure  Economy Class 2015-09-01             2              4   \n",
       "14211  Couple Leisure  Economy Class 2015-01-01             2              2   \n",
       "14212  Family Leisure  Economy Class 2015-07-01             1              1   \n",
       "14213  Couple Leisure  Economy Class 2015-07-01             5              5   \n",
       "14214  Couple Leisure  Economy Class 2015-06-01             1              1   \n",
       "\n",
       "       food_bev  entertainment  ground_service  value_for_money recommended  \\\n",
       "0             5              5               5                5         yes   \n",
       "1             2              3               1                2          no   \n",
       "2             3              3               3                3         yes   \n",
       "3             1              1               1                1          no   \n",
       "4             2              2               1                1          no   \n",
       "...         ...            ...             ...              ...         ...   \n",
       "14210         2              1               4                5         yes   \n",
       "14211         2              1               2                5         yes   \n",
       "14212         1              1               1                1          no   \n",
       "14213         5              4               4                4         yes   \n",
       "14214         1              3               1                5          no   \n",
       "\n",
       "      sentiment    year  month  \n",
       "0      positive  2019.0    4.0  \n",
       "1      positive  2019.0    4.0  \n",
       "2      positive  2019.0    4.0  \n",
       "3      negative  2019.0    2.0  \n",
       "4      positive  2019.0    3.0  \n",
       "...         ...     ...    ...  \n",
       "14210  positive  2015.0    9.0  \n",
       "14211  positive  2015.0    1.0  \n",
       "14212  positive  2015.0    7.0  \n",
       "14213  positive  2015.0    7.0  \n",
       "14214  negative  2015.0    6.0  \n",
       "\n",
       "[14215 rows x 16 columns]"
      ]
     },
     "execution_count": 32,
     "metadata": {},
     "output_type": "execute_result"
    }
   ],
   "source": [
    "df.drop('airline', axis=1)\n",
    "df.drop('aircraft', axis=1)\n",
    "df.drop('date_flown', axis=1)\n",
    "df.drop('review_date', axis=1)"
   ]
  },
  {
   "cell_type": "code",
   "execution_count": 33,
   "id": "7f3adb1a-c663-4472-b8e3-2e3c42532a28",
   "metadata": {},
   "outputs": [],
   "source": [
    "df = df.dropna(subset=['year', 'month'])"
   ]
  },
  {
   "cell_type": "markdown",
   "id": "d9f32234-c3ce-414e-8bf9-030e4a557177",
   "metadata": {},
   "source": [
    "### Exploratory Data Analysis"
   ]
  },
  {
   "cell_type": "markdown",
   "id": "ad197e1e-05d3-43f5-94ba-8af1d5deb1e7",
   "metadata": {},
   "source": [
    "### Univariate Analysis"
   ]
  },
  {
   "cell_type": "markdown",
   "id": "beed1393-1dd0-4d90-b43b-7f21539a780b",
   "metadata": {},
   "source": [
    "### Histogram"
   ]
  },
  {
   "cell_type": "code",
   "execution_count": 37,
   "id": "f93ab532-9616-4e33-8ade-41c2793a2b3c",
   "metadata": {},
   "outputs": [
    {
     "data": {
      "image/png": "[encoded data removed]",
      "text/plain": [
       "<Figure size 1000x400 with 1 Axes>"
      ]
     },
     "metadata": {},
     "output_type": "display_data"
    }
   ],
   "source": [
    "plt.figure(figsize=(10,4))\n",
    "sns.histplot(df['cabin_service'],kde=True,bins=8)\n",
    "plt.title(\"Cabin Service Rating\")\n",
    "plt.xlabel(\"service rating\")\n",
    "plt.ylabel(\"Frequency\")\n",
    "plt.show()"
   ]
  },
  {
   "cell_type": "markdown",
   "id": "03180ca0-bc38-4cd3-96a3-86868f65ad07",
   "metadata": {},
   "source": [
    "#### Observation"
   ]
  },
  {
   "cell_type": "markdown",
   "id": "09e517a4-feff-419e-b8bb-15c0a8915363",
   "metadata": {},
   "source": [
    "Most people gives rating 4 and 5. <br> few people gives rating below 3"
   ]
  },
  {
   "cell_type": "markdown",
   "id": "75dfdeff-7446-491a-b4f7-d2d7fad270c2",
   "metadata": {},
   "source": [
    "### Pie Chart"
   ]
  },
  {
   "cell_type": "code",
   "execution_count": 41,
   "id": "48e026c5-20e9-4771-afea-ac23b7b65c98",
   "metadata": {},
   "outputs": [
    {
     "data": {
      "image/png": "[encoded data removed]",
      "text/plain": [
       "<Figure size 1000x400 with 1 Axes>"
      ]
     },
     "metadata": {},
     "output_type": "display_data"
    }
   ],
   "source": [
    "plt.figure(figsize=(10,4))\n",
    "df['recommended'].value_counts().plot.pie(autopct='%1.1f%%', startangle=90, labels=['No', 'Yes'])\n",
    "plt.title('Recommendation Distribution')\n",
    "plt.ylabel('')\n",
    "plt.show()"
   ]
  },
  {
   "cell_type": "markdown",
   "id": "842df4e1-f347-45a7-86e8-4599acdf51e2",
   "metadata": {},
   "source": [
    "### Observation"
   ]
  },
  {
   "cell_type": "markdown",
   "id": "aabb2a7f-56b4-4311-a755-37be4e016401",
   "metadata": {},
   "source": [
    " The pie chart shows the distribution of airline recommendation which interprets that almost 66% of the customers did not recommend the airline while only 33% have recommended it."
   ]
  },
  {
   "cell_type": "markdown",
   "id": "64af1bfb-fbb1-4c06-8b24-57f2ff1dd241",
   "metadata": {},
   "source": [
    "### Bar plot"
   ]
  },
  {
   "cell_type": "code",
   "execution_count": 45,
   "id": "daef1bf4-9559-4094-8fab-37e338f7a17f",
   "metadata": {
    "scrolled": true
   },
   "outputs": [
    {
     "data": {
      "image/png": "[encoded data removed]",
      "text/plain": [
       "<Figure size 1000x500 with 1 Axes>"
      ]
     },
     "metadata": {},
     "output_type": "display_data"
    }
   ],
   "source": [
    "plt.figure(figsize=(10,5))\n",
    "sns.countplot(x ='traveller_type', data=df, order=df['traveller_type'].value_counts().index)\n",
    "plt.title(\"Traveller Type Distribution\")\n",
    "plt.xlabel(\"Traveller Type\")\n",
    "plt.ylabel(\"Count\")\n",
    "plt.show()     "
   ]
  },
  {
   "cell_type": "markdown",
   "id": "c6f05d4f-6f9d-494c-b8a3-61819be25457",
   "metadata": {},
   "source": [
    "### Observation"
   ]
  },
  {
   "cell_type": "markdown",
   "id": "9c654fd2-c642-4f31-8d77-4e2b669da90c",
   "metadata": {},
   "source": [
    "From the graph we can say majority of travellers are Solo travellers.<br> Then, followed by couple and then business type travellers.<br> Family type travellers are less comparatively to other."
   ]
  },
  {
   "attachments": {},
   "cell_type": "markdown",
   "id": "171d11f8-5ec2-4eb6-b583-7257264db111",
   "metadata": {},
   "source": [
    "### Bivariate Analysis"
   ]
  },
  {
   "cell_type": "markdown",
   "id": "6513dc3c-d88e-4084-877a-2765990b74ac",
   "metadata": {},
   "source": [
    "### Line graph"
   ]
  },
  {
   "cell_type": "code",
   "execution_count": 50,
   "id": "c6a58f60-729c-4b11-b108-bec7652be071",
   "metadata": {},
   "outputs": [],
   "source": [
    "yearly_rating = df.groupby('year')['overall'].mean().reset_index()"
   ]
  },
  {
   "cell_type": "code",
   "execution_count": 51,
   "id": "2d6a6313-49a7-4b26-aeeb-d2a24685d0c0",
   "metadata": {},
   "outputs": [
    {
     "data": {
      "image/png": "[encoded data removed]",
      "text/plain": [
       "<Figure size 1000x500 with 1 Axes>"
      ]
     },
     "metadata": {},
     "output_type": "display_data"
    }
   ],
   "source": [
    "plt.figure(figsize=(10,5))\n",
    "sns.lineplot(x='year', y='overall', data=yearly_rating, marker='o')\n",
    "plt.title(\"overall Rating per year\")\n",
    "plt.xlabel(\"years\")\n",
    "plt.ylabel(\"overall Rating\")\n",
    "plt.grid(True)\n",
    "plt.show()"
   ]
  },
  {
   "cell_type": "markdown",
   "id": "7dc47db2-3ee5-4552-b026-5a1571c3520d",
   "metadata": {},
   "source": [
    "#### Observation"
   ]
  },
  {
   "cell_type": "markdown",
   "id": "1b755225-af0c-4a3a-ae5c-ad5957f894bb",
   "metadata": {},
   "source": [
    "We can see overall rating are decreasing over the years.<br> After 2013 there is sharp decrease and then gradually decreasing after 2016."
   ]
  },
  {
   "cell_type": "markdown",
   "id": "0a9efb2e-8e10-462f-a091-356946ca3169",
   "metadata": {},
   "source": [
    "### Bar Plot"
   ]
  },
  {
   "cell_type": "code",
   "execution_count": 55,
   "id": "a6c86dbd-1950-4bcb-9ccc-a8851c754468",
   "metadata": {},
   "outputs": [
    {
     "data": {
      "image/png": "[encoded data removed]",
      "text/plain": [
       "<Figure size 1000x500 with 1 Axes>"
      ]
     },
     "metadata": {},
     "output_type": "display_data"
    }
   ],
   "source": [
    "plt.figure(figsize=(10,5))\n",
    "sns.barplot(x='traveller_type',y ='value_for_money', data=df, order=df['traveller_type'].value_counts().index)\n",
    "plt.title(\"Traveller Type Distribution\")\n",
    "plt.xlabel(\"Traveller Type\")\n",
    "plt.ylabel(\"value for money rating\")\n",
    "plt.show()   "
   ]
  },
  {
   "cell_type": "markdown",
   "id": "aa5df0b0-5a8f-4fe9-9f18-2877e3121fba",
   "metadata": {},
   "source": [
    "### Observation"
   ]
  },
  {
   "cell_type": "markdown",
   "id": "bb0a43fa-87d6-4583-9759-8dcf3f7df9ab",
   "metadata": {},
   "source": [
    "Graph shows the rating of 'value for money' given by travellers.<br> It seems bussiness type travellers does not find service value for money. "
   ]
  },
  {
   "cell_type": "markdown",
   "id": "145bcbe3-76a3-47b3-9a54-1778ddeb570c",
   "metadata": {},
   "source": [
    "### Multivariate Analysis"
   ]
  },
  {
   "cell_type": "markdown",
   "id": "b985ee50-0a7d-451f-9d2a-6c2e62f6996b",
   "metadata": {},
   "source": [
    "### Line Graph"
   ]
  },
  {
   "cell_type": "code",
   "execution_count": 60,
   "id": "f8840190-25a3-4f03-8234-187c173e5351",
   "metadata": {},
   "outputs": [],
   "source": [
    "sentiment_analysis = df.groupby(['year', 'sentiment'])['value_for_money'].mean().reset_index()"
   ]
  },
  {
   "cell_type": "code",
   "execution_count": 61,
   "id": "583a3774-c739-4ab5-8d3f-87584a5cb238",
   "metadata": {},
   "outputs": [
    {
     "data": {
      "image/png": "[encoded data removed]",
      "text/plain": [
       "<Figure size 1000x400 with 1 Axes>"
      ]
     },
     "metadata": {},
     "output_type": "display_data"
    }
   ],
   "source": [
    "plt.figure(figsize=(10,4))\n",
    "sns.lineplot(data=sentiment_analysis, x='year', y='value_for_money', hue='sentiment', marker='o')\n",
    "plt.title('Value for Money Over Years by Sentiment')\n",
    "plt.xlabel('Years')\n",
    "plt.ylabel('Average Value for Money')\n",
    "plt.show()"
   ]
  },
  {
   "cell_type": "markdown",
   "id": "325f9c13-817b-41e9-9077-2aae34b89c33",
   "metadata": {},
   "source": [
    "### Observation"
   ]
  },
  {
   "cell_type": "markdown",
   "id": "f125c376-32be-41cf-922a-54b30ae34810",
   "metadata": {},
   "source": [
    "The graph shows positive sentiment suddenly dropped in 2013 to 2014 then constant over a period of time.<br> \n",
    "The negative sentiment line has dropped in 2013 to 2015. then slowly decreasing to 2019."
   ]
  },
  {
   "cell_type": "markdown",
   "id": "e8a13dcd-9cbd-46c7-80c1-e14c559b2900",
   "metadata": {},
   "source": [
    "### Bar Plot"
   ]
  },
  {
   "cell_type": "code",
   "execution_count": 65,
   "id": "9f09c160-17af-4e16-96b1-9c8cc5c9cec7",
   "metadata": {},
   "outputs": [
    {
     "data": {
      "image/png": "[encoded data removed]",
      "text/plain": [
       "<Figure size 1000x600 with 1 Axes>"
      ]
     },
     "metadata": {},
     "output_type": "display_data"
    }
   ],
   "source": [
    "plt.figure(figsize=(10, 6))\n",
    "sns.barplot(x='cabin',y='seat_comfort', hue='recommended', data=df) #we use hue as it splits the bars into 2 colours.\n",
    "plt.title(\"Recommendation by cabin type\")\n",
    "plt.xlabel(\"cabin Type\")\n",
    "plt.ylabel(\"seat comfort rating\")\n",
    "plt.show()\n",
    "     "
   ]
  },
  {
   "cell_type": "markdown",
   "id": "9a700124-2fd1-432d-a753-38c4f64d86ff",
   "metadata": {},
   "source": [
    "### Observation"
   ]
  },
  {
   "cell_type": "markdown",
   "id": "01633d75-4c9b-4b39-9e74-27142d11492e",
   "metadata": {},
   "source": [
    "Graph gives idea of recommendation of cabin type basis on the rating of travellers.<br> the 'First Class' have highest recommendation while economy class have lowest recommendation."
   ]
  },
  {
   "cell_type": "markdown",
   "id": "469d519e-a1f4-48d9-80d0-3610fed625e3",
   "metadata": {},
   "source": [
    "### Correlation"
   ]
  },
  {
   "cell_type": "code",
   "execution_count": 69,
   "id": "1bba0aac-e48e-429c-9ef2-11979cfc19a9",
   "metadata": {},
   "outputs": [
    {
     "data": {
      "text/html": [
       "<div>\n",
       "<style scoped>\n",
       "    .dataframe tbody tr th:only-of-type {\n",
       "        vertical-align: middle;\n",
       "    }\n",
       "\n",
       "    .dataframe tbody tr th {\n",
       "        vertical-align: top;\n",
       "    }\n",
       "\n",
       "    .dataframe thead th {\n",
       "        text-align: right;\n",
       "    }\n",
       "</style>\n",
       "<table border=\"1\" class=\"dataframe\">\n",
       "  <thead>\n",
       "    <tr style=\"text-align: right;\">\n",
       "      <th></th>\n",
       "      <th>overall</th>\n",
       "      <th>seat_comfort</th>\n",
       "      <th>cabin_service</th>\n",
       "      <th>food_bev</th>\n",
       "      <th>entertainment</th>\n",
       "      <th>ground_service</th>\n",
       "      <th>value_for_money</th>\n",
       "    </tr>\n",
       "  </thead>\n",
       "  <tbody>\n",
       "    <tr>\n",
       "      <th>0</th>\n",
       "      <td>10</td>\n",
       "      <td>4</td>\n",
       "      <td>5</td>\n",
       "      <td>5</td>\n",
       "      <td>5</td>\n",
       "      <td>5</td>\n",
       "      <td>5</td>\n",
       "    </tr>\n",
       "    <tr>\n",
       "      <th>1</th>\n",
       "      <td>2</td>\n",
       "      <td>3</td>\n",
       "      <td>3</td>\n",
       "      <td>2</td>\n",
       "      <td>3</td>\n",
       "      <td>1</td>\n",
       "      <td>2</td>\n",
       "    </tr>\n",
       "    <tr>\n",
       "      <th>2</th>\n",
       "      <td>6</td>\n",
       "      <td>2</td>\n",
       "      <td>3</td>\n",
       "      <td>3</td>\n",
       "      <td>3</td>\n",
       "      <td>3</td>\n",
       "      <td>3</td>\n",
       "    </tr>\n",
       "    <tr>\n",
       "      <th>3</th>\n",
       "      <td>1</td>\n",
       "      <td>1</td>\n",
       "      <td>1</td>\n",
       "      <td>1</td>\n",
       "      <td>1</td>\n",
       "      <td>1</td>\n",
       "      <td>1</td>\n",
       "    </tr>\n",
       "    <tr>\n",
       "      <th>4</th>\n",
       "      <td>2</td>\n",
       "      <td>1</td>\n",
       "      <td>3</td>\n",
       "      <td>2</td>\n",
       "      <td>2</td>\n",
       "      <td>1</td>\n",
       "      <td>1</td>\n",
       "    </tr>\n",
       "  </tbody>\n",
       "</table>\n",
       "</div>"
      ],
      "text/plain": [
       "   overall  seat_comfort  cabin_service  food_bev  entertainment  \\\n",
       "0       10             4              5         5              5   \n",
       "1        2             3              3         2              3   \n",
       "2        6             2              3         3              3   \n",
       "3        1             1              1         1              1   \n",
       "4        2             1              3         2              2   \n",
       "\n",
       "   ground_service  value_for_money  \n",
       "0               5                5  \n",
       "1               1                2  \n",
       "2               3                3  \n",
       "3               1                1  \n",
       "4               1                1  "
      ]
     },
     "execution_count": 69,
     "metadata": {},
     "output_type": "execute_result"
    }
   ],
   "source": [
    "int_dtype =  df.select_dtypes(include = 'int')\n",
    "int_dtype.head()"
   ]
  },
  {
   "cell_type": "code",
   "execution_count": 70,
   "id": "645200ae-a112-477b-ae6d-8d5460e1356f",
   "metadata": {},
   "outputs": [
    {
     "data": {
      "text/plain": [
       "<Axes: >"
      ]
     },
     "execution_count": 70,
     "metadata": {},
     "output_type": "execute_result"
    },
    {
     "data": {
      "image/png": "[encoded data removed]",
      "text/plain": [
       "<Figure size 800x500 with 2 Axes>"
      ]
     },
     "metadata": {},
     "output_type": "display_data"
    }
   ],
   "source": [
    "# heatmap\n",
    "plt.figure(figsize=(8, 5))\n",
    "sns.heatmap(int_dtype.corr(),annot = True, cmap = \"crest\")"
   ]
  },
  {
   "cell_type": "markdown",
   "id": "ac403401-1c2a-452b-bae3-659117d93048",
   "metadata": {},
   "source": [
    "### Observation"
   ]
  },
  {
   "cell_type": "markdown",
   "id": "c76c310c-96bc-4f69-b06f-e7608a53872d",
   "metadata": {},
   "source": [
    "Overall rating is strongly correlated with value for money.<br> Then travellers give priority to services and then seat comfort while giving ratings i.e. overall rating is strongly correlated with cabin services and seat comfort."
   ]
  },
  {
   "cell_type": "markdown",
   "id": "3b59809b-6cc8-40fb-808c-51fbe68c39d4",
   "metadata": {},
   "source": [
    "### Outlier Detections"
   ]
  },
  {
   "cell_type": "code",
   "execution_count": 74,
   "id": "b083a5ab-374a-4c9b-85d8-ad09ae695a9c",
   "metadata": {},
   "outputs": [
    {
     "data": {
      "image/png": "[encoded data removed]",
      "text/plain": [
       "<Figure size 1000x400 with 1 Axes>"
      ]
     },
     "metadata": {},
     "output_type": "display_data"
    },
    {
     "data": {
      "image/png": "[encoded data removed]",
      "text/plain": [
       "<Figure size 1000x400 with 1 Axes>"
      ]
     },
     "metadata": {},
     "output_type": "display_data"
    },
    {
     "data": {
      "image/png": "[encoded data removed]",
      "text/plain": [
       "<Figure size 1000x400 with 1 Axes>"
      ]
     },
     "metadata": {},
     "output_type": "display_data"
    },
    {
     "data": {
      "image/png": "[encoded data removed]",
      "text/plain": [
       "<Figure size 1000x400 with 1 Axes>"
      ]
     },
     "metadata": {},
     "output_type": "display_data"
    },
    {
     "data": {
      "image/png": "[encoded data removed]",
      "text/plain": [
       "<Figure size 1000x400 with 1 Axes>"
      ]
     },
     "metadata": {},
     "output_type": "display_data"
    },
    {
     "data": {
      "image/png": "[encoded data removed]",
      "text/plain": [
       "<Figure size 1000x400 with 1 Axes>"
      ]
     },
     "metadata": {},
     "output_type": "display_data"
    },
    {
     "data": {
      "image/png": "[encoded data removed]",
      "text/plain": [
       "<Figure size 1000x400 with 1 Axes>"
      ]
     },
     "metadata": {},
     "output_type": "display_data"
    }
   ],
   "source": [
    "# Boxplot\n",
    "for i in int_dtype.columns:\n",
    "    plt.figure(figsize = (10,4))\n",
    "    sns.boxplot(x=df[i])\n",
    "    plt.title(i)\n",
    "    plt.show()"
   ]
  },
  {
   "cell_type": "markdown",
   "id": "e27872e9-b2d3-428b-af1b-c5de07f26db3",
   "metadata": {},
   "source": [
    "#### Observation"
   ]
  },
  {
   "cell_type": "markdown",
   "id": "6bdc3157-75d8-4f34-99d2-10f46bad93ef",
   "metadata": {},
   "source": [
    "there are no outliers from the above boxplot."
   ]
  },
  {
   "cell_type": "markdown",
   "id": "71efe90b-28f2-4fff-a1c4-27209eee3f89",
   "metadata": {},
   "source": [
    "### Label Encoding"
   ]
  },
  {
   "cell_type": "code",
   "execution_count": 78,
   "id": "096e0c7b-e16e-4ffd-9d52-de1da1dff907",
   "metadata": {},
   "outputs": [],
   "source": [
    "# label encoding for recommended column as it contains yes and no\n",
    "df['recommended'] = df['recommended'].map({'yes': 1, 'no': 0})"
   ]
  },
  {
   "cell_type": "code",
   "execution_count": 79,
   "id": "7611dda3-206b-45bc-9598-8efbdc586c62",
   "metadata": {},
   "outputs": [
    {
     "data": {
      "text/html": [
       "<div>\n",
       "<style scoped>\n",
       "    .dataframe tbody tr th:only-of-type {\n",
       "        vertical-align: middle;\n",
       "    }\n",
       "\n",
       "    .dataframe tbody tr th {\n",
       "        vertical-align: top;\n",
       "    }\n",
       "\n",
       "    .dataframe thead th {\n",
       "        text-align: right;\n",
       "    }\n",
       "</style>\n",
       "<table border=\"1\" class=\"dataframe\">\n",
       "  <thead>\n",
       "    <tr style=\"text-align: right;\">\n",
       "      <th></th>\n",
       "      <th>airline</th>\n",
       "      <th>overall</th>\n",
       "      <th>review_date</th>\n",
       "      <th>aircraft</th>\n",
       "      <th>traveller_type</th>\n",
       "      <th>cabin</th>\n",
       "      <th>date_flown</th>\n",
       "      <th>seat_comfort</th>\n",
       "      <th>cabin_service</th>\n",
       "      <th>food_bev</th>\n",
       "      <th>entertainment</th>\n",
       "      <th>ground_service</th>\n",
       "      <th>value_for_money</th>\n",
       "      <th>recommended</th>\n",
       "      <th>sentiment</th>\n",
       "      <th>year</th>\n",
       "      <th>month</th>\n",
       "    </tr>\n",
       "  </thead>\n",
       "  <tbody>\n",
       "    <tr>\n",
       "      <th>0</th>\n",
       "      <td>Turkish Airlines</td>\n",
       "      <td>10</td>\n",
       "      <td>6th May 2019</td>\n",
       "      <td>A330</td>\n",
       "      <td>Solo Leisure</td>\n",
       "      <td>Economy Class</td>\n",
       "      <td>2019-04-01</td>\n",
       "      <td>4</td>\n",
       "      <td>5</td>\n",
       "      <td>5</td>\n",
       "      <td>5</td>\n",
       "      <td>5</td>\n",
       "      <td>5</td>\n",
       "      <td>1</td>\n",
       "      <td>positive</td>\n",
       "      <td>2019.0</td>\n",
       "      <td>4.0</td>\n",
       "    </tr>\n",
       "    <tr>\n",
       "      <th>1</th>\n",
       "      <td>Turkish Airlines</td>\n",
       "      <td>2</td>\n",
       "      <td>29th April 2019</td>\n",
       "      <td>Boeing 737-800 / A330-300</td>\n",
       "      <td>Solo Leisure</td>\n",
       "      <td>Economy Class</td>\n",
       "      <td>2019-04-01</td>\n",
       "      <td>3</td>\n",
       "      <td>3</td>\n",
       "      <td>2</td>\n",
       "      <td>3</td>\n",
       "      <td>1</td>\n",
       "      <td>2</td>\n",
       "      <td>0</td>\n",
       "      <td>positive</td>\n",
       "      <td>2019.0</td>\n",
       "      <td>4.0</td>\n",
       "    </tr>\n",
       "    <tr>\n",
       "      <th>2</th>\n",
       "      <td>Turkish Airlines</td>\n",
       "      <td>6</td>\n",
       "      <td>29th April 2019</td>\n",
       "      <td>A320 / Boeing 737</td>\n",
       "      <td>Solo Leisure</td>\n",
       "      <td>Economy Class</td>\n",
       "      <td>2019-04-01</td>\n",
       "      <td>2</td>\n",
       "      <td>3</td>\n",
       "      <td>3</td>\n",
       "      <td>3</td>\n",
       "      <td>3</td>\n",
       "      <td>3</td>\n",
       "      <td>1</td>\n",
       "      <td>positive</td>\n",
       "      <td>2019.0</td>\n",
       "      <td>4.0</td>\n",
       "    </tr>\n",
       "    <tr>\n",
       "      <th>3</th>\n",
       "      <td>Turkish Airlines</td>\n",
       "      <td>1</td>\n",
       "      <td>28th April 2019</td>\n",
       "      <td>A320 / A330</td>\n",
       "      <td>Solo Leisure</td>\n",
       "      <td>Economy Class</td>\n",
       "      <td>2019-02-01</td>\n",
       "      <td>1</td>\n",
       "      <td>1</td>\n",
       "      <td>1</td>\n",
       "      <td>1</td>\n",
       "      <td>1</td>\n",
       "      <td>1</td>\n",
       "      <td>0</td>\n",
       "      <td>negative</td>\n",
       "      <td>2019.0</td>\n",
       "      <td>2.0</td>\n",
       "    </tr>\n",
       "    <tr>\n",
       "      <th>4</th>\n",
       "      <td>Turkish Airlines</td>\n",
       "      <td>2</td>\n",
       "      <td>24th April 2019</td>\n",
       "      <td>Boeing 777-300</td>\n",
       "      <td>Solo Leisure</td>\n",
       "      <td>Economy Class</td>\n",
       "      <td>2019-03-01</td>\n",
       "      <td>1</td>\n",
       "      <td>3</td>\n",
       "      <td>2</td>\n",
       "      <td>2</td>\n",
       "      <td>1</td>\n",
       "      <td>1</td>\n",
       "      <td>0</td>\n",
       "      <td>positive</td>\n",
       "      <td>2019.0</td>\n",
       "      <td>3.0</td>\n",
       "    </tr>\n",
       "  </tbody>\n",
       "</table>\n",
       "</div>"
      ],
      "text/plain": [
       "            airline  overall      review_date                   aircraft  \\\n",
       "0  Turkish Airlines       10     6th May 2019                       A330   \n",
       "1  Turkish Airlines        2  29th April 2019  Boeing 737-800 / A330-300   \n",
       "2  Turkish Airlines        6  29th April 2019          A320 / Boeing 737   \n",
       "3  Turkish Airlines        1  28th April 2019                A320 / A330   \n",
       "4  Turkish Airlines        2  24th April 2019             Boeing 777-300   \n",
       "\n",
       "  traveller_type          cabin date_flown  seat_comfort  cabin_service  \\\n",
       "0   Solo Leisure  Economy Class 2019-04-01             4              5   \n",
       "1   Solo Leisure  Economy Class 2019-04-01             3              3   \n",
       "2   Solo Leisure  Economy Class 2019-04-01             2              3   \n",
       "3   Solo Leisure  Economy Class 2019-02-01             1              1   \n",
       "4   Solo Leisure  Economy Class 2019-03-01             1              3   \n",
       "\n",
       "   food_bev  entertainment  ground_service  value_for_money  recommended  \\\n",
       "0         5              5               5                5            1   \n",
       "1         2              3               1                2            0   \n",
       "2         3              3               3                3            1   \n",
       "3         1              1               1                1            0   \n",
       "4         2              2               1                1            0   \n",
       "\n",
       "  sentiment    year  month  \n",
       "0  positive  2019.0    4.0  \n",
       "1  positive  2019.0    4.0  \n",
       "2  positive  2019.0    4.0  \n",
       "3  negative  2019.0    2.0  \n",
       "4  positive  2019.0    3.0  "
      ]
     },
     "execution_count": 79,
     "metadata": {},
     "output_type": "execute_result"
    }
   ],
   "source": [
    "df.head()"
   ]
  },
  {
   "cell_type": "markdown",
   "id": "1d81e98d-40a2-4faf-b2a1-69c4cabadb41",
   "metadata": {},
   "source": [
    "### One Hot Encoding"
   ]
  },
  {
   "cell_type": "code",
   "execution_count": 81,
   "id": "be67fa2e-accf-4a0f-9760-4b94ecba933b",
   "metadata": {},
   "outputs": [],
   "source": [
    "df = pd.get_dummies(df, columns=['sentiment'], drop_first=True)"
   ]
  },
  {
   "cell_type": "code",
   "execution_count": 82,
   "id": "39152f7c-887c-46b5-a871-c5d6aab42c38",
   "metadata": {},
   "outputs": [],
   "source": [
    "df = pd.get_dummies(df, columns=['traveller_type'], drop_first=True)"
   ]
  },
  {
   "cell_type": "code",
   "execution_count": 83,
   "id": "e4faf66a-576a-4abb-b2cc-d53541d23d99",
   "metadata": {},
   "outputs": [],
   "source": [
    "df = pd.get_dummies(df, columns=['cabin'], drop_first=True)"
   ]
  },
  {
   "cell_type": "code",
   "execution_count": 84,
   "id": "d0850947-76d4-4de8-a54c-3e992bc2e9a5",
   "metadata": {},
   "outputs": [
    {
     "data": {
      "text/html": [
       "<div>\n",
       "<style scoped>\n",
       "    .dataframe tbody tr th:only-of-type {\n",
       "        vertical-align: middle;\n",
       "    }\n",
       "\n",
       "    .dataframe tbody tr th {\n",
       "        vertical-align: top;\n",
       "    }\n",
       "\n",
       "    .dataframe thead th {\n",
       "        text-align: right;\n",
       "    }\n",
       "</style>\n",
       "<table border=\"1\" class=\"dataframe\">\n",
       "  <thead>\n",
       "    <tr style=\"text-align: right;\">\n",
       "      <th></th>\n",
       "      <th>airline</th>\n",
       "      <th>overall</th>\n",
       "      <th>review_date</th>\n",
       "      <th>aircraft</th>\n",
       "      <th>date_flown</th>\n",
       "      <th>seat_comfort</th>\n",
       "      <th>cabin_service</th>\n",
       "      <th>food_bev</th>\n",
       "      <th>entertainment</th>\n",
       "      <th>ground_service</th>\n",
       "      <th>...</th>\n",
       "      <th>year</th>\n",
       "      <th>month</th>\n",
       "      <th>sentiment_positive</th>\n",
       "      <th>traveller_type_Couple Leisure</th>\n",
       "      <th>traveller_type_Family Leisure</th>\n",
       "      <th>traveller_type_Solo Leisure</th>\n",
       "      <th>traveller_type_Traveller</th>\n",
       "      <th>cabin_Economy Class</th>\n",
       "      <th>cabin_First Class</th>\n",
       "      <th>cabin_Premium Economy</th>\n",
       "    </tr>\n",
       "  </thead>\n",
       "  <tbody>\n",
       "    <tr>\n",
       "      <th>0</th>\n",
       "      <td>Turkish Airlines</td>\n",
       "      <td>10</td>\n",
       "      <td>6th May 2019</td>\n",
       "      <td>A330</td>\n",
       "      <td>2019-04-01</td>\n",
       "      <td>4</td>\n",
       "      <td>5</td>\n",
       "      <td>5</td>\n",
       "      <td>5</td>\n",
       "      <td>5</td>\n",
       "      <td>...</td>\n",
       "      <td>2019.0</td>\n",
       "      <td>4.0</td>\n",
       "      <td>True</td>\n",
       "      <td>False</td>\n",
       "      <td>False</td>\n",
       "      <td>True</td>\n",
       "      <td>False</td>\n",
       "      <td>True</td>\n",
       "      <td>False</td>\n",
       "      <td>False</td>\n",
       "    </tr>\n",
       "    <tr>\n",
       "      <th>1</th>\n",
       "      <td>Turkish Airlines</td>\n",
       "      <td>2</td>\n",
       "      <td>29th April 2019</td>\n",
       "      <td>Boeing 737-800 / A330-300</td>\n",
       "      <td>2019-04-01</td>\n",
       "      <td>3</td>\n",
       "      <td>3</td>\n",
       "      <td>2</td>\n",
       "      <td>3</td>\n",
       "      <td>1</td>\n",
       "      <td>...</td>\n",
       "      <td>2019.0</td>\n",
       "      <td>4.0</td>\n",
       "      <td>True</td>\n",
       "      <td>False</td>\n",
       "      <td>False</td>\n",
       "      <td>True</td>\n",
       "      <td>False</td>\n",
       "      <td>True</td>\n",
       "      <td>False</td>\n",
       "      <td>False</td>\n",
       "    </tr>\n",
       "    <tr>\n",
       "      <th>2</th>\n",
       "      <td>Turkish Airlines</td>\n",
       "      <td>6</td>\n",
       "      <td>29th April 2019</td>\n",
       "      <td>A320 / Boeing 737</td>\n",
       "      <td>2019-04-01</td>\n",
       "      <td>2</td>\n",
       "      <td>3</td>\n",
       "      <td>3</td>\n",
       "      <td>3</td>\n",
       "      <td>3</td>\n",
       "      <td>...</td>\n",
       "      <td>2019.0</td>\n",
       "      <td>4.0</td>\n",
       "      <td>True</td>\n",
       "      <td>False</td>\n",
       "      <td>False</td>\n",
       "      <td>True</td>\n",
       "      <td>False</td>\n",
       "      <td>True</td>\n",
       "      <td>False</td>\n",
       "      <td>False</td>\n",
       "    </tr>\n",
       "    <tr>\n",
       "      <th>3</th>\n",
       "      <td>Turkish Airlines</td>\n",
       "      <td>1</td>\n",
       "      <td>28th April 2019</td>\n",
       "      <td>A320 / A330</td>\n",
       "      <td>2019-02-01</td>\n",
       "      <td>1</td>\n",
       "      <td>1</td>\n",
       "      <td>1</td>\n",
       "      <td>1</td>\n",
       "      <td>1</td>\n",
       "      <td>...</td>\n",
       "      <td>2019.0</td>\n",
       "      <td>2.0</td>\n",
       "      <td>False</td>\n",
       "      <td>False</td>\n",
       "      <td>False</td>\n",
       "      <td>True</td>\n",
       "      <td>False</td>\n",
       "      <td>True</td>\n",
       "      <td>False</td>\n",
       "      <td>False</td>\n",
       "    </tr>\n",
       "    <tr>\n",
       "      <th>4</th>\n",
       "      <td>Turkish Airlines</td>\n",
       "      <td>2</td>\n",
       "      <td>24th April 2019</td>\n",
       "      <td>Boeing 777-300</td>\n",
       "      <td>2019-03-01</td>\n",
       "      <td>1</td>\n",
       "      <td>3</td>\n",
       "      <td>2</td>\n",
       "      <td>2</td>\n",
       "      <td>1</td>\n",
       "      <td>...</td>\n",
       "      <td>2019.0</td>\n",
       "      <td>3.0</td>\n",
       "      <td>True</td>\n",
       "      <td>False</td>\n",
       "      <td>False</td>\n",
       "      <td>True</td>\n",
       "      <td>False</td>\n",
       "      <td>True</td>\n",
       "      <td>False</td>\n",
       "      <td>False</td>\n",
       "    </tr>\n",
       "  </tbody>\n",
       "</table>\n",
       "<p>5 rows × 22 columns</p>\n",
       "</div>"
      ],
      "text/plain": [
       "            airline  overall      review_date                   aircraft  \\\n",
       "0  Turkish Airlines       10     6th May 2019                       A330   \n",
       "1  Turkish Airlines        2  29th April 2019  Boeing 737-800 / A330-300   \n",
       "2  Turkish Airlines        6  29th April 2019          A320 / Boeing 737   \n",
       "3  Turkish Airlines        1  28th April 2019                A320 / A330   \n",
       "4  Turkish Airlines        2  24th April 2019             Boeing 777-300   \n",
       "\n",
       "  date_flown  seat_comfort  cabin_service  food_bev  entertainment  \\\n",
       "0 2019-04-01             4              5         5              5   \n",
       "1 2019-04-01             3              3         2              3   \n",
       "2 2019-04-01             2              3         3              3   \n",
       "3 2019-02-01             1              1         1              1   \n",
       "4 2019-03-01             1              3         2              2   \n",
       "\n",
       "   ground_service  ...    year  month  sentiment_positive  \\\n",
       "0               5  ...  2019.0    4.0                True   \n",
       "1               1  ...  2019.0    4.0                True   \n",
       "2               3  ...  2019.0    4.0                True   \n",
       "3               1  ...  2019.0    2.0               False   \n",
       "4               1  ...  2019.0    3.0                True   \n",
       "\n",
       "   traveller_type_Couple Leisure  traveller_type_Family Leisure  \\\n",
       "0                          False                          False   \n",
       "1                          False                          False   \n",
       "2                          False                          False   \n",
       "3                          False                          False   \n",
       "4                          False                          False   \n",
       "\n",
       "   traveller_type_Solo Leisure  traveller_type_Traveller  cabin_Economy Class  \\\n",
       "0                         True                     False                 True   \n",
       "1                         True                     False                 True   \n",
       "2                         True                     False                 True   \n",
       "3                         True                     False                 True   \n",
       "4                         True                     False                 True   \n",
       "\n",
       "   cabin_First Class  cabin_Premium Economy  \n",
       "0              False                  False  \n",
       "1              False                  False  \n",
       "2              False                  False  \n",
       "3              False                  False  \n",
       "4              False                  False  \n",
       "\n",
       "[5 rows x 22 columns]"
      ]
     },
     "execution_count": 84,
     "metadata": {},
     "output_type": "execute_result"
    }
   ],
   "source": [
    "df.head()"
   ]
  },
  {
   "cell_type": "code",
   "execution_count": 85,
   "id": "94eab719-6b5f-486c-bfc8-8a2562e17504",
   "metadata": {},
   "outputs": [
    {
     "name": "stdout",
     "output_type": "stream",
     "text": [
      "<class 'pandas.core.frame.DataFrame'>\n",
      "Index: 13277 entries, 0 to 14214\n",
      "Data columns (total 22 columns):\n",
      " #   Column                         Non-Null Count  Dtype         \n",
      "---  ------                         --------------  -----         \n",
      " 0   airline                        13277 non-null  object        \n",
      " 1   overall                        13277 non-null  int32         \n",
      " 2   review_date                    13277 non-null  object        \n",
      " 3   aircraft                       13277 non-null  object        \n",
      " 4   date_flown                     13277 non-null  datetime64[ns]\n",
      " 5   seat_comfort                   13277 non-null  int32         \n",
      " 6   cabin_service                  13277 non-null  int32         \n",
      " 7   food_bev                       13277 non-null  int32         \n",
      " 8   entertainment                  13277 non-null  int32         \n",
      " 9   ground_service                 13277 non-null  int32         \n",
      " 10  value_for_money                13277 non-null  int32         \n",
      " 11  recommended                    13277 non-null  int64         \n",
      " 12  year                           13277 non-null  float64       \n",
      " 13  month                          13277 non-null  float64       \n",
      " 14  sentiment_positive             13277 non-null  bool          \n",
      " 15  traveller_type_Couple Leisure  13277 non-null  bool          \n",
      " 16  traveller_type_Family Leisure  13277 non-null  bool          \n",
      " 17  traveller_type_Solo Leisure    13277 non-null  bool          \n",
      " 18  traveller_type_Traveller       13277 non-null  bool          \n",
      " 19  cabin_Economy Class            13277 non-null  bool          \n",
      " 20  cabin_First Class              13277 non-null  bool          \n",
      " 21  cabin_Premium Economy          13277 non-null  bool          \n",
      "dtypes: bool(8), datetime64[ns](1), float64(2), int32(7), int64(1), object(3)\n",
      "memory usage: 1.3+ MB\n"
     ]
    }
   ],
   "source": [
    "df.info()"
   ]
  },
  {
   "cell_type": "code",
   "execution_count": 86,
   "id": "38cf3154-fc54-4643-884a-9117af52c037",
   "metadata": {},
   "outputs": [],
   "source": [
    "df = df.drop(['review_date','aircraft','date_flown','airline'], axis = 1)"
   ]
  },
  {
   "cell_type": "code",
   "execution_count": 87,
   "id": "a95f725d-59c5-48f2-8aba-dd70b7b50496",
   "metadata": {},
   "outputs": [
    {
     "name": "stdout",
     "output_type": "stream",
     "text": [
      "<class 'pandas.core.frame.DataFrame'>\n",
      "Index: 13277 entries, 0 to 14214\n",
      "Data columns (total 18 columns):\n",
      " #   Column                         Non-Null Count  Dtype  \n",
      "---  ------                         --------------  -----  \n",
      " 0   overall                        13277 non-null  int32  \n",
      " 1   seat_comfort                   13277 non-null  int32  \n",
      " 2   cabin_service                  13277 non-null  int32  \n",
      " 3   food_bev                       13277 non-null  int32  \n",
      " 4   entertainment                  13277 non-null  int32  \n",
      " 5   ground_service                 13277 non-null  int32  \n",
      " 6   value_for_money                13277 non-null  int32  \n",
      " 7   recommended                    13277 non-null  int64  \n",
      " 8   year                           13277 non-null  float64\n",
      " 9   month                          13277 non-null  float64\n",
      " 10  sentiment_positive             13277 non-null  bool   \n",
      " 11  traveller_type_Couple Leisure  13277 non-null  bool   \n",
      " 12  traveller_type_Family Leisure  13277 non-null  bool   \n",
      " 13  traveller_type_Solo Leisure    13277 non-null  bool   \n",
      " 14  traveller_type_Traveller       13277 non-null  bool   \n",
      " 15  cabin_Economy Class            13277 non-null  bool   \n",
      " 16  cabin_First Class              13277 non-null  bool   \n",
      " 17  cabin_Premium Economy          13277 non-null  bool   \n",
      "dtypes: bool(8), float64(2), int32(7), int64(1)\n",
      "memory usage: 881.7 KB\n"
     ]
    }
   ],
   "source": [
    "df.info()"
   ]
  },
  {
   "cell_type": "code",
   "execution_count": 88,
   "id": "0251161c-0dcf-49cc-b833-a38425d74c9a",
   "metadata": {},
   "outputs": [
    {
     "data": {
      "text/plain": [
       "(13277, 18)"
      ]
     },
     "execution_count": 88,
     "metadata": {},
     "output_type": "execute_result"
    }
   ],
   "source": [
    "df.shape"
   ]
  },
  {
   "cell_type": "code",
   "execution_count": 89,
   "id": "a1ea1f7f-1a05-44b9-8de1-4e7ffc38ec0a",
   "metadata": {},
   "outputs": [
    {
     "data": {
      "text/plain": [
       "overall                          0\n",
       "seat_comfort                     0\n",
       "cabin_service                    0\n",
       "food_bev                         0\n",
       "entertainment                    0\n",
       "ground_service                   0\n",
       "value_for_money                  0\n",
       "recommended                      0\n",
       "year                             0\n",
       "month                            0\n",
       "sentiment_positive               0\n",
       "traveller_type_Couple Leisure    0\n",
       "traveller_type_Family Leisure    0\n",
       "traveller_type_Solo Leisure      0\n",
       "traveller_type_Traveller         0\n",
       "cabin_Economy Class              0\n",
       "cabin_First Class                0\n",
       "cabin_Premium Economy            0\n",
       "dtype: int64"
      ]
     },
     "execution_count": 89,
     "metadata": {},
     "output_type": "execute_result"
    }
   ],
   "source": [
    "df.isnull().sum()"
   ]
  },
  {
   "cell_type": "markdown",
   "id": "163a4ba0-a922-41f2-93a9-121b3aa61243",
   "metadata": {},
   "source": [
    "## Model Preparation"
   ]
  },
  {
   "cell_type": "code",
   "execution_count": 91,
   "id": "bb6f1f7e-7e06-484c-8b35-b8d87657f61a",
   "metadata": {},
   "outputs": [],
   "source": [
    "x = df.drop(['recommended'], axis = 1).values\n",
    "y = df['recommended'].values"
   ]
  },
  {
   "cell_type": "markdown",
   "id": "75962a96-72c7-480b-ae6c-2b88fe854ee5",
   "metadata": {},
   "source": [
    "### Train Test Split"
   ]
  },
  {
   "cell_type": "code",
   "execution_count": 93,
   "id": "88602b2c-d41b-4fee-a4de-4c245e323e15",
   "metadata": {},
   "outputs": [],
   "source": [
    "from sklearn.model_selection import train_test_split\n",
    "x_train, x_test, y_train, y_test = train_test_split(x,y, test_size = 0.3)"
   ]
  },
  {
   "cell_type": "markdown",
   "id": "364b7177-9980-4c80-88ef-9ca78149c663",
   "metadata": {},
   "source": [
    "### Scaling"
   ]
  },
  {
   "cell_type": "code",
   "execution_count": 95,
   "id": "799eda33-14b6-48a5-85c5-a81617f167b0",
   "metadata": {},
   "outputs": [],
   "source": [
    "from sklearn.preprocessing import StandardScaler\n",
    "scaler = StandardScaler()"
   ]
  },
  {
   "cell_type": "code",
   "execution_count": 96,
   "id": "b3fdc5ee-62a0-417f-80c5-c85f89e24c70",
   "metadata": {},
   "outputs": [],
   "source": [
    "x_train = scaler.fit_transform(x_train)\n",
    "x_test = scaler.transform(x_test)"
   ]
  },
  {
   "cell_type": "markdown",
   "id": "7e960796-4640-4c2b-8f92-bb80ca8ea8e1",
   "metadata": {},
   "source": [
    "### Importing Logistic Regression"
   ]
  },
  {
   "cell_type": "code",
   "execution_count": 98,
   "id": "c1248cce-5bc3-4a5d-ba7b-0b025c735667",
   "metadata": {},
   "outputs": [],
   "source": [
    "from sklearn.linear_model import LogisticRegression\n",
    "log = LogisticRegression()\n",
    "     "
   ]
  },
  {
   "cell_type": "code",
   "execution_count": 99,
   "id": "fd018985-713a-466c-a515-a37f785f384b",
   "metadata": {},
   "outputs": [
    {
     "data": {
      "text/html": [
       "<style>#sk-container-id-1 {\n",
       "  /* Definition of color scheme common for light and dark mode */\n",
       "  --sklearn-color-text: black;\n",
       "  --sklearn-color-line: gray;\n",
       "  /* Definition of color scheme for unfitted estimators */\n",
       "  --sklearn-color-unfitted-level-0: #fff5e6;\n",
       "  --sklearn-color-unfitted-level-1: #f6e4d2;\n",
       "  --sklearn-color-unfitted-level-2: #ffe0b3;\n",
       "  --sklearn-color-unfitted-level-3: chocolate;\n",
       "  /* Definition of color scheme for fitted estimators */\n",
       "  --sklearn-color-fitted-level-0: #f0f8ff;\n",
       "  --sklearn-color-fitted-level-1: #d4ebff;\n",
       "  --sklearn-color-fitted-level-2: #b3dbfd;\n",
       "  --sklearn-color-fitted-level-3: cornflowerblue;\n",
       "\n",
       "  /* Specific color for light theme */\n",
       "  --sklearn-color-text-on-default-background: var(--sg-text-color, var(--theme-code-foreground, var(--jp-content-font-color1, black)));\n",
       "  --sklearn-color-background: var(--sg-background-color, var(--theme-background, var(--jp-layout-color0, white)));\n",
       "  --sklearn-color-border-box: var(--sg-text-color, var(--theme-code-foreground, var(--jp-content-font-color1, black)));\n",
       "  --sklearn-color-icon: #696969;\n",
       "\n",
       "  @media (prefers-color-scheme: dark) {\n",
       "    /* Redefinition of color scheme for dark theme */\n",
       "    --sklearn-color-text-on-default-background: var(--sg-text-color, var(--theme-code-foreground, var(--jp-content-font-color1, white)));\n",
       "    --sklearn-color-background: var(--sg-background-color, var(--theme-background, var(--jp-layout-color0, #111)));\n",
       "    --sklearn-color-border-box: var(--sg-text-color, var(--theme-code-foreground, var(--jp-content-font-color1, white)));\n",
       "    --sklearn-color-icon: #878787;\n",
       "  }\n",
       "}\n",
       "\n",
       "#sk-container-id-1 {\n",
       "  color: var(--sklearn-color-text);\n",
       "}\n",
       "\n",
       "#sk-container-id-1 pre {\n",
       "  padding: 0;\n",
       "}\n",
       "\n",
       "#sk-container-id-1 input.sk-hidden--visually {\n",
       "  border: 0;\n",
       "  clip: rect(1px 1px 1px 1px);\n",
       "  clip: rect(1px, 1px, 1px, 1px);\n",
       "  height: 1px;\n",
       "  margin: -1px;\n",
       "  overflow: hidden;\n",
       "  padding: 0;\n",
       "  position: absolute;\n",
       "  width: 1px;\n",
       "}\n",
       "\n",
       "#sk-container-id-1 div.sk-dashed-wrapped {\n",
       "  border: 1px dashed var(--sklearn-color-line);\n",
       "  margin: 0 0.4em 0.5em 0.4em;\n",
       "  box-sizing: border-box;\n",
       "  padding-bottom: 0.4em;\n",
       "  background-color: var(--sklearn-color-background);\n",
       "}\n",
       "\n",
       "#sk-container-id-1 div.sk-container {\n",
       "  /* jupyter's `normalize.less` sets `[hidden] { display: none; }`\n",
       "     but bootstrap.min.css set `[hidden] { display: none !important; }`\n",
       "     so we also need the `!important` here to be able to override the\n",
       "     default hidden behavior on the sphinx rendered scikit-learn.org.\n",
       "     See: https://github.com/scikit-learn/scikit-learn/issues/21755 */\n",
       "  display: inline-block !important;\n",
       "  position: relative;\n",
       "}\n",
       "\n",
       "#sk-container-id-1 div.sk-text-repr-fallback {\n",
       "  display: none;\n",
       "}\n",
       "\n",
       "div.sk-parallel-item,\n",
       "div.sk-serial,\n",
       "div.sk-item {\n",
       "  /* draw centered vertical line to link estimators */\n",
       "  background-image: linear-gradient(var(--sklearn-color-text-on-default-background), var(--sklearn-color-text-on-default-background));\n",
       "  background-size: 2px 100%;\n",
       "  background-repeat: no-repeat;\n",
       "  background-position: center center;\n",
       "}\n",
       "\n",
       "/* Parallel-specific style estimator block */\n",
       "\n",
       "#sk-container-id-1 div.sk-parallel-item::after {\n",
       "  content: \"\";\n",
       "  width: 100%;\n",
       "  border-bottom: 2px solid var(--sklearn-color-text-on-default-background);\n",
       "  flex-grow: 1;\n",
       "}\n",
       "\n",
       "#sk-container-id-1 div.sk-parallel {\n",
       "  display: flex;\n",
       "  align-items: stretch;\n",
       "  justify-content: center;\n",
       "  background-color: var(--sklearn-color-background);\n",
       "  position: relative;\n",
       "}\n",
       "\n",
       "#sk-container-id-1 div.sk-parallel-item {\n",
       "  display: flex;\n",
       "  flex-direction: column;\n",
       "}\n",
       "\n",
       "#sk-container-id-1 div.sk-parallel-item:first-child::after {\n",
       "  align-self: flex-end;\n",
       "  width: 50%;\n",
       "}\n",
       "\n",
       "#sk-container-id-1 div.sk-parallel-item:last-child::after {\n",
       "  align-self: flex-start;\n",
       "  width: 50%;\n",
       "}\n",
       "\n",
       "#sk-container-id-1 div.sk-parallel-item:only-child::after {\n",
       "  width: 0;\n",
       "}\n",
       "\n",
       "/* Serial-specific style estimator block */\n",
       "\n",
       "#sk-container-id-1 div.sk-serial {\n",
       "  display: flex;\n",
       "  flex-direction: column;\n",
       "  align-items: center;\n",
       "  background-color: var(--sklearn-color-background);\n",
       "  padding-right: 1em;\n",
       "  padding-left: 1em;\n",
       "}\n",
       "\n",
       "\n",
       "/* Toggleable style: style used for estimator/Pipeline/ColumnTransformer box that is\n",
       "clickable and can be expanded/collapsed.\n",
       "- Pipeline and ColumnTransformer use this feature and define the default style\n",
       "- Estimators will overwrite some part of the style using the `sk-estimator` class\n",
       "*/\n",
       "\n",
       "/* Pipeline and ColumnTransformer style (default) */\n",
       "\n",
       "#sk-container-id-1 div.sk-toggleable {\n",
       "  /* Default theme specific background. It is overwritten whether we have a\n",
       "  specific estimator or a Pipeline/ColumnTransformer */\n",
       "  background-color: var(--sklearn-color-background);\n",
       "}\n",
       "\n",
       "/* Toggleable label */\n",
       "#sk-container-id-1 label.sk-toggleable__label {\n",
       "  cursor: pointer;\n",
       "  display: block;\n",
       "  width: 100%;\n",
       "  margin-bottom: 0;\n",
       "  padding: 0.5em;\n",
       "  box-sizing: border-box;\n",
       "  text-align: center;\n",
       "}\n",
       "\n",
       "#sk-container-id-1 label.sk-toggleable__label-arrow:before {\n",
       "  /* Arrow on the left of the label */\n",
       "  content: \"▸\";\n",
       "  float: left;\n",
       "  margin-right: 0.25em;\n",
       "  color: var(--sklearn-color-icon);\n",
       "}\n",
       "\n",
       "#sk-container-id-1 label.sk-toggleable__label-arrow:hover:before {\n",
       "  color: var(--sklearn-color-text);\n",
       "}\n",
       "\n",
       "/* Toggleable content - dropdown */\n",
       "\n",
       "#sk-container-id-1 div.sk-toggleable__content {\n",
       "  max-height: 0;\n",
       "  max-width: 0;\n",
       "  overflow: hidden;\n",
       "  text-align: left;\n",
       "  /* unfitted */\n",
       "  background-color: var(--sklearn-color-unfitted-level-0);\n",
       "}\n",
       "\n",
       "#sk-container-id-1 div.sk-toggleable__content.fitted {\n",
       "  /* fitted */\n",
       "  background-color: var(--sklearn-color-fitted-level-0);\n",
       "}\n",
       "\n",
       "#sk-container-id-1 div.sk-toggleable__content pre {\n",
       "  margin: 0.2em;\n",
       "  border-radius: 0.25em;\n",
       "  color: var(--sklearn-color-text);\n",
       "  /* unfitted */\n",
       "  background-color: var(--sklearn-color-unfitted-level-0);\n",
       "}\n",
       "\n",
       "#sk-container-id-1 div.sk-toggleable__content.fitted pre {\n",
       "  /* unfitted */\n",
       "  background-color: var(--sklearn-color-fitted-level-0);\n",
       "}\n",
       "\n",
       "#sk-container-id-1 input.sk-toggleable__control:checked~div.sk-toggleable__content {\n",
       "  /* Expand drop-down */\n",
       "  max-height: 200px;\n",
       "  max-width: 100%;\n",
       "  overflow: auto;\n",
       "}\n",
       "\n",
       "#sk-container-id-1 input.sk-toggleable__control:checked~label.sk-toggleable__label-arrow:before {\n",
       "  content: \"▾\";\n",
       "}\n",
       "\n",
       "/* Pipeline/ColumnTransformer-specific style */\n",
       "\n",
       "#sk-container-id-1 div.sk-label input.sk-toggleable__control:checked~label.sk-toggleable__label {\n",
       "  color: var(--sklearn-color-text);\n",
       "  background-color: var(--sklearn-color-unfitted-level-2);\n",
       "}\n",
       "\n",
       "#sk-container-id-1 div.sk-label.fitted input.sk-toggleable__control:checked~label.sk-toggleable__label {\n",
       "  background-color: var(--sklearn-color-fitted-level-2);\n",
       "}\n",
       "\n",
       "/* Estimator-specific style */\n",
       "\n",
       "/* Colorize estimator box */\n",
       "#sk-container-id-1 div.sk-estimator input.sk-toggleable__control:checked~label.sk-toggleable__label {\n",
       "  /* unfitted */\n",
       "  background-color: var(--sklearn-color-unfitted-level-2);\n",
       "}\n",
       "\n",
       "#sk-container-id-1 div.sk-estimator.fitted input.sk-toggleable__control:checked~label.sk-toggleable__label {\n",
       "  /* fitted */\n",
       "  background-color: var(--sklearn-color-fitted-level-2);\n",
       "}\n",
       "\n",
       "#sk-container-id-1 div.sk-label label.sk-toggleable__label,\n",
       "#sk-container-id-1 div.sk-label label {\n",
       "  /* The background is the default theme color */\n",
       "  color: var(--sklearn-color-text-on-default-background);\n",
       "}\n",
       "\n",
       "/* On hover, darken the color of the background */\n",
       "#sk-container-id-1 div.sk-label:hover label.sk-toggleable__label {\n",
       "  color: var(--sklearn-color-text);\n",
       "  background-color: var(--sklearn-color-unfitted-level-2);\n",
       "}\n",
       "\n",
       "/* Label box, darken color on hover, fitted */\n",
       "#sk-container-id-1 div.sk-label.fitted:hover label.sk-toggleable__label.fitted {\n",
       "  color: var(--sklearn-color-text);\n",
       "  background-color: var(--sklearn-color-fitted-level-2);\n",
       "}\n",
       "\n",
       "/* Estimator label */\n",
       "\n",
       "#sk-container-id-1 div.sk-label label {\n",
       "  font-family: monospace;\n",
       "  font-weight: bold;\n",
       "  display: inline-block;\n",
       "  line-height: 1.2em;\n",
       "}\n",
       "\n",
       "#sk-container-id-1 div.sk-label-container {\n",
       "  text-align: center;\n",
       "}\n",
       "\n",
       "/* Estimator-specific */\n",
       "#sk-container-id-1 div.sk-estimator {\n",
       "  font-family: monospace;\n",
       "  border: 1px dotted var(--sklearn-color-border-box);\n",
       "  border-radius: 0.25em;\n",
       "  box-sizing: border-box;\n",
       "  margin-bottom: 0.5em;\n",
       "  /* unfitted */\n",
       "  background-color: var(--sklearn-color-unfitted-level-0);\n",
       "}\n",
       "\n",
       "#sk-container-id-1 div.sk-estimator.fitted {\n",
       "  /* fitted */\n",
       "  background-color: var(--sklearn-color-fitted-level-0);\n",
       "}\n",
       "\n",
       "/* on hover */\n",
       "#sk-container-id-1 div.sk-estimator:hover {\n",
       "  /* unfitted */\n",
       "  background-color: var(--sklearn-color-unfitted-level-2);\n",
       "}\n",
       "\n",
       "#sk-container-id-1 div.sk-estimator.fitted:hover {\n",
       "  /* fitted */\n",
       "  background-color: var(--sklearn-color-fitted-level-2);\n",
       "}\n",
       "\n",
       "/* Specification for estimator info (e.g. \"i\" and \"?\") */\n",
       "\n",
       "/* Common style for \"i\" and \"?\" */\n",
       "\n",
       ".sk-estimator-doc-link,\n",
       "a:link.sk-estimator-doc-link,\n",
       "a:visited.sk-estimator-doc-link {\n",
       "  float: right;\n",
       "  font-size: smaller;\n",
       "  line-height: 1em;\n",
       "  font-family: monospace;\n",
       "  background-color: var(--sklearn-color-background);\n",
       "  border-radius: 1em;\n",
       "  height: 1em;\n",
       "  width: 1em;\n",
       "  text-decoration: none !important;\n",
       "  margin-left: 1ex;\n",
       "  /* unfitted */\n",
       "  border: var(--sklearn-color-unfitted-level-1) 1pt solid;\n",
       "  color: var(--sklearn-color-unfitted-level-1);\n",
       "}\n",
       "\n",
       ".sk-estimator-doc-link.fitted,\n",
       "a:link.sk-estimator-doc-link.fitted,\n",
       "a:visited.sk-estimator-doc-link.fitted {\n",
       "  /* fitted */\n",
       "  border: var(--sklearn-color-fitted-level-1) 1pt solid;\n",
       "  color: var(--sklearn-color-fitted-level-1);\n",
       "}\n",
       "\n",
       "/* On hover */\n",
       "div.sk-estimator:hover .sk-estimator-doc-link:hover,\n",
       ".sk-estimator-doc-link:hover,\n",
       "div.sk-label-container:hover .sk-estimator-doc-link:hover,\n",
       ".sk-estimator-doc-link:hover {\n",
       "  /* unfitted */\n",
       "  background-color: var(--sklearn-color-unfitted-level-3);\n",
       "  color: var(--sklearn-color-background);\n",
       "  text-decoration: none;\n",
       "}\n",
       "\n",
       "div.sk-estimator.fitted:hover .sk-estimator-doc-link.fitted:hover,\n",
       ".sk-estimator-doc-link.fitted:hover,\n",
       "div.sk-label-container:hover .sk-estimator-doc-link.fitted:hover,\n",
       ".sk-estimator-doc-link.fitted:hover {\n",
       "  /* fitted */\n",
       "  background-color: var(--sklearn-color-fitted-level-3);\n",
       "  color: var(--sklearn-color-background);\n",
       "  text-decoration: none;\n",
       "}\n",
       "\n",
       "/* Span, style for the box shown on hovering the info icon */\n",
       ".sk-estimator-doc-link span {\n",
       "  display: none;\n",
       "  z-index: 9999;\n",
       "  position: relative;\n",
       "  font-weight: normal;\n",
       "  right: .2ex;\n",
       "  padding: .5ex;\n",
       "  margin: .5ex;\n",
       "  width: min-content;\n",
       "  min-width: 20ex;\n",
       "  max-width: 50ex;\n",
       "  color: var(--sklearn-color-text);\n",
       "  box-shadow: 2pt 2pt 4pt #999;\n",
       "  /* unfitted */\n",
       "  background: var(--sklearn-color-unfitted-level-0);\n",
       "  border: .5pt solid var(--sklearn-color-unfitted-level-3);\n",
       "}\n",
       "\n",
       ".sk-estimator-doc-link.fitted span {\n",
       "  /* fitted */\n",
       "  background: var(--sklearn-color-fitted-level-0);\n",
       "  border: var(--sklearn-color-fitted-level-3);\n",
       "}\n",
       "\n",
       ".sk-estimator-doc-link:hover span {\n",
       "  display: block;\n",
       "}\n",
       "\n",
       "/* \"?\"-specific style due to the `<a>` HTML tag */\n",
       "\n",
       "#sk-container-id-1 a.estimator_doc_link {\n",
       "  float: right;\n",
       "  font-size: 1rem;\n",
       "  line-height: 1em;\n",
       "  font-family: monospace;\n",
       "  background-color: var(--sklearn-color-background);\n",
       "  border-radius: 1rem;\n",
       "  height: 1rem;\n",
       "  width: 1rem;\n",
       "  text-decoration: none;\n",
       "  /* unfitted */\n",
       "  color: var(--sklearn-color-unfitted-level-1);\n",
       "  border: var(--sklearn-color-unfitted-level-1) 1pt solid;\n",
       "}\n",
       "\n",
       "#sk-container-id-1 a.estimator_doc_link.fitted {\n",
       "  /* fitted */\n",
       "  border: var(--sklearn-color-fitted-level-1) 1pt solid;\n",
       "  color: var(--sklearn-color-fitted-level-1);\n",
       "}\n",
       "\n",
       "/* On hover */\n",
       "#sk-container-id-1 a.estimator_doc_link:hover {\n",
       "  /* unfitted */\n",
       "  background-color: var(--sklearn-color-unfitted-level-3);\n",
       "  color: var(--sklearn-color-background);\n",
       "  text-decoration: none;\n",
       "}\n",
       "\n",
       "#sk-container-id-1 a.estimator_doc_link.fitted:hover {\n",
       "  /* fitted */\n",
       "  background-color: var(--sklearn-color-fitted-level-3);\n",
       "}\n",
       "</style><div id=\"sk-container-id-1\" class=\"sk-top-container\"><div class=\"sk-text-repr-fallback\"><pre>LogisticRegression()</pre><b>In a Jupyter environment, please rerun this cell to show the HTML representation or trust the notebook. <br />On GitHub, the HTML representation is unable to render, please try loading this page with nbviewer.org.</b></div><div class=\"sk-container\" hidden><div class=\"sk-item\"><div class=\"sk-estimator fitted sk-toggleable\"><input class=\"sk-toggleable__control sk-hidden--visually\" id=\"sk-estimator-id-1\" type=\"checkbox\" checked><label for=\"sk-estimator-id-1\" class=\"sk-toggleable__label fitted sk-toggleable__label-arrow fitted\">&nbsp;&nbsp;LogisticRegression<a class=\"sk-estimator-doc-link fitted\" rel=\"noreferrer\" target=\"_blank\" href=\"https://scikit-learn.org/1.4/modules/generated/sklearn.linear_model.LogisticRegression.html\">?<span>Documentation for LogisticRegression</span></a><span class=\"sk-estimator-doc-link fitted\">i<span>Fitted</span></span></label><div class=\"sk-toggleable__content fitted\"><pre>LogisticRegression()</pre></div> </div></div></div></div>"
      ],
      "text/plain": [
       "LogisticRegression()"
      ]
     },
     "execution_count": 99,
     "metadata": {},
     "output_type": "execute_result"
    }
   ],
   "source": [
    "log.fit(x_train, y_train)"
   ]
  },
  {
   "cell_type": "markdown",
   "id": "3fbb3359-0a8c-492d-ad41-fce8bcbc6bf8",
   "metadata": {},
   "source": [
    "### Predicting the result"
   ]
  },
  {
   "cell_type": "code",
   "execution_count": 101,
   "id": "5da32ebf-6ddd-4d8e-9a15-250eb512dbe5",
   "metadata": {},
   "outputs": [
    {
     "data": {
      "text/plain": [
       "array([0, 0, 1, ..., 1, 0, 1], dtype=int64)"
      ]
     },
     "execution_count": 101,
     "metadata": {},
     "output_type": "execute_result"
    }
   ],
   "source": [
    "y_pred = log.predict(x_test)\n",
    "y_pred"
   ]
  },
  {
   "cell_type": "code",
   "execution_count": 102,
   "id": "e2d2ae5d-a72c-4f9c-ab0d-fd0c6f11f27c",
   "metadata": {},
   "outputs": [
    {
     "data": {
      "text/plain": [
       "array([1, 0, 0, ..., 1, 1, 0], dtype=int64)"
      ]
     },
     "execution_count": 102,
     "metadata": {},
     "output_type": "execute_result"
    }
   ],
   "source": [
    "y_train"
   ]
  },
  {
   "cell_type": "code",
   "execution_count": 103,
   "id": "86a93b97-b41d-47bb-9ee0-4cab9b0ed47b",
   "metadata": {},
   "outputs": [
    {
     "data": {
      "text/plain": [
       "array([0, 0, 1, ..., 1, 0, 1], dtype=int64)"
      ]
     },
     "execution_count": 103,
     "metadata": {},
     "output_type": "execute_result"
    }
   ],
   "source": [
    "y_test"
   ]
  },
  {
   "cell_type": "code",
   "execution_count": 104,
   "id": "eda849e3-99e3-44c0-8c68-4de6a10eb0d1",
   "metadata": {},
   "outputs": [
    {
     "name": "stdout",
     "output_type": "stream",
     "text": [
      "Training Score:  95.20068869041214 %\n",
      "Testing Score:  95.03012048192771 %\n"
     ]
    }
   ],
   "source": [
    "# Checking the accuracy\n",
    "print(\"Training Score: \", log.score(x_train, y_train)*100, \"%\")\n",
    "print(\"Testing Score: \", log.score(x_test, y_test)*100, \"%\")"
   ]
  },
  {
   "cell_type": "markdown",
   "id": "12c0cf8f-5205-4688-9412-2ba25195cb95",
   "metadata": {},
   "source": [
    "### Confusion Metrics"
   ]
  },
  {
   "cell_type": "code",
   "execution_count": 106,
   "id": "2b102613-d0e6-489b-a46b-82a1e4072600",
   "metadata": {},
   "outputs": [
    {
     "data": {
      "image/png": "[encoded data removed]",
      "text/plain": [
       "<Figure size 640x480 with 2 Axes>"
      ]
     },
     "metadata": {},
     "output_type": "display_data"
    }
   ],
   "source": [
    "from sklearn.metrics import confusion_matrix, ConfusionMatrixDisplay\n",
    "y_test = log.predict(x_test)\n",
    "\n",
    "cm = confusion_matrix(y_test, y_pred)\n",
    "disp = ConfusionMatrixDisplay(confusion_matrix=cm, display_labels=['No', 'Yes'])\n",
    "\n",
    "disp.plot(cmap='Blues')\n",
    "plt.title('Confusion Matrix - Logistic Regression')\n",
    "plt.show()"
   ]
  },
  {
   "cell_type": "code",
   "execution_count": 107,
   "id": "42d84433-828f-4ed7-8cbd-b71682a9da5b",
   "metadata": {},
   "outputs": [
    {
     "name": "stdout",
     "output_type": "stream",
     "text": [
      "Accuracy       : 1.00\n",
      "Error Rate     : 0.00\n",
      "Precision (Yes): 1.00\n",
      "Recall (Yes)   : 1.00\n",
      "F1 Score (Yes) : 1.00\n"
     ]
    }
   ],
   "source": [
    "from sklearn.metrics import accuracy_score, precision_score, recall_score, f1_score\n",
    "\n",
    "accuracy = accuracy_score(y_test, y_pred)\n",
    "\n",
    "error = 1 - accuracy\n",
    "\n",
    "precision = precision_score(y_test, y_pred)\n",
    "\n",
    "recall = recall_score(y_test, y_pred)\n",
    "\n",
    "f1 = f1_score(y_test, y_pred)\n",
    "\n",
    "print(f\"Accuracy       : {accuracy:.2f}\")\n",
    "print(f\"Error Rate     : {error:.2f}\")\n",
    "print(f\"Precision (Yes): {precision:.2f}\")\n",
    "print(f\"Recall (Yes)   : {recall:.2f}\")\n",
    "print(f\"F1 Score (Yes) : {f1:.2f}\")"
   ]
  },
  {
   "cell_type": "markdown",
   "id": "a85a1755-eebd-4aa4-80ad-51c9efd8bbee",
   "metadata": {},
   "source": [
    "### Decision Tree Classifier"
   ]
  },
  {
   "cell_type": "code",
   "execution_count": 109,
   "id": "50a70d7d-c787-4dc0-9868-e81a7ceff744",
   "metadata": {},
   "outputs": [
    {
     "name": "stdout",
     "output_type": "stream",
     "text": [
      "The Predicted values are:  [0 0 1 ... 1 0 1]\n",
      "The Actual values are:  [0 0 1 ... 1 0 1]\n",
      "--------------------------------------------------------------------------------\n",
      "Training Score:  99.99 %\n",
      "Testing Score:  94.5 %\n"
     ]
    }
   ],
   "source": [
    "from sklearn.tree import DecisionTreeClassifier\n",
    "dt = DecisionTreeClassifier()\n",
    "dt.fit(x_train, y_train)\n",
    "dt_pred = dt.predict(x_test)\n",
    "\n",
    "print(\"The Predicted values are: \", dt_pred)\n",
    "print(\"The Actual values are: \", y_test)\n",
    "print(\"--\" * 40)\n",
    "\n",
    "print(\"Training Score: \", round(dt.score(x_train, y_train)*100,2), \"%\")\n",
    "print(\"Testing Score: \", round(dt.score(x_test, y_test)*100,2), \"%\")"
   ]
  },
  {
   "cell_type": "markdown",
   "id": "f12f8a99-d837-40f4-9929-45597f234571",
   "metadata": {},
   "source": [
    "### Confusion Metrics"
   ]
  },
  {
   "cell_type": "code",
   "execution_count": 111,
   "id": "c1441892-a7ed-4170-aa39-37b01c17cbb0",
   "metadata": {},
   "outputs": [
    {
     "data": {
      "image/png": "[encoded data removed]",
      "text/plain": [
       "<Figure size 640x480 with 2 Axes>"
      ]
     },
     "metadata": {},
     "output_type": "display_data"
    }
   ],
   "source": [
    "from sklearn.metrics import confusion_matrix, ConfusionMatrixDisplay\n",
    "\n",
    "cm = confusion_matrix(y_test, dt_pred)\n",
    "\n",
    "disp = ConfusionMatrixDisplay(confusion_matrix=cm, display_labels=['No', 'Yes'])\n",
    "disp.plot(cmap='Blues')\n",
    "plt.title(\"Confusion Matrix\")\n",
    "plt.show()"
   ]
  },
  {
   "cell_type": "code",
   "execution_count": 112,
   "id": "47da8987-831e-4ff8-9167-99d83559c329",
   "metadata": {},
   "outputs": [
    {
     "name": "stdout",
     "output_type": "stream",
     "text": [
      "Accuracy       : 0.95\n",
      "Error Rate     : 0.05\n",
      "Precision (Yes): 0.96\n",
      "Recall (Yes)   : 0.95\n",
      "F1 Score (Yes) : 0.96\n"
     ]
    }
   ],
   "source": [
    "from sklearn.metrics import accuracy_score, precision_score, recall_score, f1_score\n",
    "\n",
    "accuracy = accuracy_score(y_test, dt_pred)\n",
    "\n",
    "error = 1 - accuracy\n",
    "\n",
    "precision = precision_score(y_test, dt_pred)\n",
    "\n",
    "recall = recall_score(y_test, dt_pred)\n",
    "\n",
    "f1 = f1_score(y_test, dt_pred)\n",
    "\n",
    "print(f\"Accuracy       : {accuracy:.2f}\")\n",
    "print(f\"Error Rate     : {error:.2f}\")\n",
    "print(f\"Precision (Yes): {precision:.2f}\")\n",
    "print(f\"Recall (Yes)   : {recall:.2f}\")\n",
    "print(f\"F1 Score (Yes) : {f1:.2f}\")"
   ]
  },
  {
   "cell_type": "markdown",
   "id": "212b9420-5885-4006-a066-0a5c6e412783",
   "metadata": {},
   "source": [
    "### Random Forest Classifier"
   ]
  },
  {
   "cell_type": "code",
   "execution_count": 114,
   "id": "a57da841-369d-4c85-b47c-679bf499444a",
   "metadata": {},
   "outputs": [
    {
     "name": "stdout",
     "output_type": "stream",
     "text": [
      "The Predicted values are:  [0 0 1 ... 1 0 1]\n",
      "The Actual values are:  [0 0 1 ... 1 0 1]\n",
      "--------------------------------------------------------------------------------\n",
      "Training Score:  99.99 %\n",
      "Testing Score:  98.07 %\n"
     ]
    }
   ],
   "source": [
    "from sklearn.ensemble import RandomForestClassifier\n",
    "rf = RandomForestClassifier()\n",
    "rf.fit(x_train, y_train)\n",
    "rf_pred = rf.predict(x_test)\n",
    "\n",
    "print(\"The Predicted values are: \", rf_pred)\n",
    "print(\"The Actual values are: \", y_test)\n",
    "print(\"--\" * 40)\n",
    "\n",
    "print(\"Training Score: \", round(rf.score(x_train, y_train)*100,2), \"%\")\n",
    "print(\"Testing Score: \", round(rf.score(x_test, y_test)*100,2), \"%\")"
   ]
  },
  {
   "cell_type": "markdown",
   "id": "c4654919-5e62-4163-8c91-501290aaa829",
   "metadata": {},
   "source": [
    "### Confusion Metrics"
   ]
  },
  {
   "cell_type": "code",
   "execution_count": 116,
   "id": "04dddaba-8422-467f-8911-227e7a0674cc",
   "metadata": {
    "scrolled": true
   },
   "outputs": [
    {
     "data": {
      "image/png": "[encoded data removed]",
      "text/plain": [
       "<Figure size 640x480 with 2 Axes>"
      ]
     },
     "metadata": {},
     "output_type": "display_data"
    }
   ],
   "source": [
    "from sklearn.metrics import confusion_matrix, ConfusionMatrixDisplay\n",
    "\n",
    "cm = confusion_matrix(y_test, rf_pred)\n",
    "disp = ConfusionMatrixDisplay(confusion_matrix=cm, display_labels=['No', 'Yes'])\n",
    "disp.plot(cmap='Blues')\n",
    "plt.title(\"Confusion Matrix\")\n",
    "plt.show()"
   ]
  },
  {
   "cell_type": "code",
   "execution_count": 117,
   "id": "1de5dfd9-5e83-42ff-b978-0892cc9439d4",
   "metadata": {},
   "outputs": [
    {
     "name": "stdout",
     "output_type": "stream",
     "text": [
      "Accuracy       : 0.98\n",
      "Error Rate     : 0.02\n",
      "Precision (Yes): 0.99\n",
      "Recall (Yes)   : 0.98\n",
      "F1 Score (Yes) : 0.99\n"
     ]
    }
   ],
   "source": [
    "from sklearn.metrics import accuracy_score, precision_score, recall_score, f1_score\n",
    "\n",
    "accuracy = accuracy_score(y_test, rf_pred)\n",
    "\n",
    "error = 1 - accuracy\n",
    "\n",
    "precision = precision_score(y_test, rf_pred)\n",
    "recall = recall_score(y_test, rf_pred)\n",
    "f1 = f1_score(y_test, rf_pred)\n",
    "\n",
    "print(f\"Accuracy       : {accuracy:.2f}\")\n",
    "print(f\"Error Rate     : {error:.2f}\")\n",
    "print(f\"Precision (Yes): {precision:.2f}\")\n",
    "print(f\"Recall (Yes)   : {recall:.2f}\")\n",
    "print(f\"F1 Score (Yes) : {f1:.2f}\")"
   ]
  },
  {
   "cell_type": "markdown",
   "id": "bdf918d5-d48a-4309-a9e8-5b6382e14c3b",
   "metadata": {},
   "source": [
    "### K Nearest Neighbor Classifier"
   ]
  },
  {
   "cell_type": "code",
   "execution_count": 119,
   "id": "f22902d5-831f-4df6-9ab0-b5e6926f149e",
   "metadata": {},
   "outputs": [
    {
     "data": {
      "text/html": [
       "<style>#sk-container-id-2 {\n",
       "  /* Definition of color scheme common for light and dark mode */\n",
       "  --sklearn-color-text: black;\n",
       "  --sklearn-color-line: gray;\n",
       "  /* Definition of color scheme for unfitted estimators */\n",
       "  --sklearn-color-unfitted-level-0: #fff5e6;\n",
       "  --sklearn-color-unfitted-level-1: #f6e4d2;\n",
       "  --sklearn-color-unfitted-level-2: #ffe0b3;\n",
       "  --sklearn-color-unfitted-level-3: chocolate;\n",
       "  /* Definition of color scheme for fitted estimators */\n",
       "  --sklearn-color-fitted-level-0: #f0f8ff;\n",
       "  --sklearn-color-fitted-level-1: #d4ebff;\n",
       "  --sklearn-color-fitted-level-2: #b3dbfd;\n",
       "  --sklearn-color-fitted-level-3: cornflowerblue;\n",
       "\n",
       "  /* Specific color for light theme */\n",
       "  --sklearn-color-text-on-default-background: var(--sg-text-color, var(--theme-code-foreground, var(--jp-content-font-color1, black)));\n",
       "  --sklearn-color-background: var(--sg-background-color, var(--theme-background, var(--jp-layout-color0, white)));\n",
       "  --sklearn-color-border-box: var(--sg-text-color, var(--theme-code-foreground, var(--jp-content-font-color1, black)));\n",
       "  --sklearn-color-icon: #696969;\n",
       "\n",
       "  @media (prefers-color-scheme: dark) {\n",
       "    /* Redefinition of color scheme for dark theme */\n",
       "    --sklearn-color-text-on-default-background: var(--sg-text-color, var(--theme-code-foreground, var(--jp-content-font-color1, white)));\n",
       "    --sklearn-color-background: var(--sg-background-color, var(--theme-background, var(--jp-layout-color0, #111)));\n",
       "    --sklearn-color-border-box: var(--sg-text-color, var(--theme-code-foreground, var(--jp-content-font-color1, white)));\n",
       "    --sklearn-color-icon: #878787;\n",
       "  }\n",
       "}\n",
       "\n",
       "#sk-container-id-2 {\n",
       "  color: var(--sklearn-color-text);\n",
       "}\n",
       "\n",
       "#sk-container-id-2 pre {\n",
       "  padding: 0;\n",
       "}\n",
       "\n",
       "#sk-container-id-2 input.sk-hidden--visually {\n",
       "  border: 0;\n",
       "  clip: rect(1px 1px 1px 1px);\n",
       "  clip: rect(1px, 1px, 1px, 1px);\n",
       "  height: 1px;\n",
       "  margin: -1px;\n",
       "  overflow: hidden;\n",
       "  padding: 0;\n",
       "  position: absolute;\n",
       "  width: 1px;\n",
       "}\n",
       "\n",
       "#sk-container-id-2 div.sk-dashed-wrapped {\n",
       "  border: 1px dashed var(--sklearn-color-line);\n",
       "  margin: 0 0.4em 0.5em 0.4em;\n",
       "  box-sizing: border-box;\n",
       "  padding-bottom: 0.4em;\n",
       "  background-color: var(--sklearn-color-background);\n",
       "}\n",
       "\n",
       "#sk-container-id-2 div.sk-container {\n",
       "  /* jupyter's `normalize.less` sets `[hidden] { display: none; }`\n",
       "     but bootstrap.min.css set `[hidden] { display: none !important; }`\n",
       "     so we also need the `!important` here to be able to override the\n",
       "     default hidden behavior on the sphinx rendered scikit-learn.org.\n",
       "     See: https://github.com/scikit-learn/scikit-learn/issues/21755 */\n",
       "  display: inline-block !important;\n",
       "  position: relative;\n",
       "}\n",
       "\n",
       "#sk-container-id-2 div.sk-text-repr-fallback {\n",
       "  display: none;\n",
       "}\n",
       "\n",
       "div.sk-parallel-item,\n",
       "div.sk-serial,\n",
       "div.sk-item {\n",
       "  /* draw centered vertical line to link estimators */\n",
       "  background-image: linear-gradient(var(--sklearn-color-text-on-default-background), var(--sklearn-color-text-on-default-background));\n",
       "  background-size: 2px 100%;\n",
       "  background-repeat: no-repeat;\n",
       "  background-position: center center;\n",
       "}\n",
       "\n",
       "/* Parallel-specific style estimator block */\n",
       "\n",
       "#sk-container-id-2 div.sk-parallel-item::after {\n",
       "  content: \"\";\n",
       "  width: 100%;\n",
       "  border-bottom: 2px solid var(--sklearn-color-text-on-default-background);\n",
       "  flex-grow: 1;\n",
       "}\n",
       "\n",
       "#sk-container-id-2 div.sk-parallel {\n",
       "  display: flex;\n",
       "  align-items: stretch;\n",
       "  justify-content: center;\n",
       "  background-color: var(--sklearn-color-background);\n",
       "  position: relative;\n",
       "}\n",
       "\n",
       "#sk-container-id-2 div.sk-parallel-item {\n",
       "  display: flex;\n",
       "  flex-direction: column;\n",
       "}\n",
       "\n",
       "#sk-container-id-2 div.sk-parallel-item:first-child::after {\n",
       "  align-self: flex-end;\n",
       "  width: 50%;\n",
       "}\n",
       "\n",
       "#sk-container-id-2 div.sk-parallel-item:last-child::after {\n",
       "  align-self: flex-start;\n",
       "  width: 50%;\n",
       "}\n",
       "\n",
       "#sk-container-id-2 div.sk-parallel-item:only-child::after {\n",
       "  width: 0;\n",
       "}\n",
       "\n",
       "/* Serial-specific style estimator block */\n",
       "\n",
       "#sk-container-id-2 div.sk-serial {\n",
       "  display: flex;\n",
       "  flex-direction: column;\n",
       "  align-items: center;\n",
       "  background-color: var(--sklearn-color-background);\n",
       "  padding-right: 1em;\n",
       "  padding-left: 1em;\n",
       "}\n",
       "\n",
       "\n",
       "/* Toggleable style: style used for estimator/Pipeline/ColumnTransformer box that is\n",
       "clickable and can be expanded/collapsed.\n",
       "- Pipeline and ColumnTransformer use this feature and define the default style\n",
       "- Estimators will overwrite some part of the style using the `sk-estimator` class\n",
       "*/\n",
       "\n",
       "/* Pipeline and ColumnTransformer style (default) */\n",
       "\n",
       "#sk-container-id-2 div.sk-toggleable {\n",
       "  /* Default theme specific background. It is overwritten whether we have a\n",
       "  specific estimator or a Pipeline/ColumnTransformer */\n",
       "  background-color: var(--sklearn-color-background);\n",
       "}\n",
       "\n",
       "/* Toggleable label */\n",
       "#sk-container-id-2 label.sk-toggleable__label {\n",
       "  cursor: pointer;\n",
       "  display: block;\n",
       "  width: 100%;\n",
       "  margin-bottom: 0;\n",
       "  padding: 0.5em;\n",
       "  box-sizing: border-box;\n",
       "  text-align: center;\n",
       "}\n",
       "\n",
       "#sk-container-id-2 label.sk-toggleable__label-arrow:before {\n",
       "  /* Arrow on the left of the label */\n",
       "  content: \"▸\";\n",
       "  float: left;\n",
       "  margin-right: 0.25em;\n",
       "  color: var(--sklearn-color-icon);\n",
       "}\n",
       "\n",
       "#sk-container-id-2 label.sk-toggleable__label-arrow:hover:before {\n",
       "  color: var(--sklearn-color-text);\n",
       "}\n",
       "\n",
       "/* Toggleable content - dropdown */\n",
       "\n",
       "#sk-container-id-2 div.sk-toggleable__content {\n",
       "  max-height: 0;\n",
       "  max-width: 0;\n",
       "  overflow: hidden;\n",
       "  text-align: left;\n",
       "  /* unfitted */\n",
       "  background-color: var(--sklearn-color-unfitted-level-0);\n",
       "}\n",
       "\n",
       "#sk-container-id-2 div.sk-toggleable__content.fitted {\n",
       "  /* fitted */\n",
       "  background-color: var(--sklearn-color-fitted-level-0);\n",
       "}\n",
       "\n",
       "#sk-container-id-2 div.sk-toggleable__content pre {\n",
       "  margin: 0.2em;\n",
       "  border-radius: 0.25em;\n",
       "  color: var(--sklearn-color-text);\n",
       "  /* unfitted */\n",
       "  background-color: var(--sklearn-color-unfitted-level-0);\n",
       "}\n",
       "\n",
       "#sk-container-id-2 div.sk-toggleable__content.fitted pre {\n",
       "  /* unfitted */\n",
       "  background-color: var(--sklearn-color-fitted-level-0);\n",
       "}\n",
       "\n",
       "#sk-container-id-2 input.sk-toggleable__control:checked~div.sk-toggleable__content {\n",
       "  /* Expand drop-down */\n",
       "  max-height: 200px;\n",
       "  max-width: 100%;\n",
       "  overflow: auto;\n",
       "}\n",
       "\n",
       "#sk-container-id-2 input.sk-toggleable__control:checked~label.sk-toggleable__label-arrow:before {\n",
       "  content: \"▾\";\n",
       "}\n",
       "\n",
       "/* Pipeline/ColumnTransformer-specific style */\n",
       "\n",
       "#sk-container-id-2 div.sk-label input.sk-toggleable__control:checked~label.sk-toggleable__label {\n",
       "  color: var(--sklearn-color-text);\n",
       "  background-color: var(--sklearn-color-unfitted-level-2);\n",
       "}\n",
       "\n",
       "#sk-container-id-2 div.sk-label.fitted input.sk-toggleable__control:checked~label.sk-toggleable__label {\n",
       "  background-color: var(--sklearn-color-fitted-level-2);\n",
       "}\n",
       "\n",
       "/* Estimator-specific style */\n",
       "\n",
       "/* Colorize estimator box */\n",
       "#sk-container-id-2 div.sk-estimator input.sk-toggleable__control:checked~label.sk-toggleable__label {\n",
       "  /* unfitted */\n",
       "  background-color: var(--sklearn-color-unfitted-level-2);\n",
       "}\n",
       "\n",
       "#sk-container-id-2 div.sk-estimator.fitted input.sk-toggleable__control:checked~label.sk-toggleable__label {\n",
       "  /* fitted */\n",
       "  background-color: var(--sklearn-color-fitted-level-2);\n",
       "}\n",
       "\n",
       "#sk-container-id-2 div.sk-label label.sk-toggleable__label,\n",
       "#sk-container-id-2 div.sk-label label {\n",
       "  /* The background is the default theme color */\n",
       "  color: var(--sklearn-color-text-on-default-background);\n",
       "}\n",
       "\n",
       "/* On hover, darken the color of the background */\n",
       "#sk-container-id-2 div.sk-label:hover label.sk-toggleable__label {\n",
       "  color: var(--sklearn-color-text);\n",
       "  background-color: var(--sklearn-color-unfitted-level-2);\n",
       "}\n",
       "\n",
       "/* Label box, darken color on hover, fitted */\n",
       "#sk-container-id-2 div.sk-label.fitted:hover label.sk-toggleable__label.fitted {\n",
       "  color: var(--sklearn-color-text);\n",
       "  background-color: var(--sklearn-color-fitted-level-2);\n",
       "}\n",
       "\n",
       "/* Estimator label */\n",
       "\n",
       "#sk-container-id-2 div.sk-label label {\n",
       "  font-family: monospace;\n",
       "  font-weight: bold;\n",
       "  display: inline-block;\n",
       "  line-height: 1.2em;\n",
       "}\n",
       "\n",
       "#sk-container-id-2 div.sk-label-container {\n",
       "  text-align: center;\n",
       "}\n",
       "\n",
       "/* Estimator-specific */\n",
       "#sk-container-id-2 div.sk-estimator {\n",
       "  font-family: monospace;\n",
       "  border: 1px dotted var(--sklearn-color-border-box);\n",
       "  border-radius: 0.25em;\n",
       "  box-sizing: border-box;\n",
       "  margin-bottom: 0.5em;\n",
       "  /* unfitted */\n",
       "  background-color: var(--sklearn-color-unfitted-level-0);\n",
       "}\n",
       "\n",
       "#sk-container-id-2 div.sk-estimator.fitted {\n",
       "  /* fitted */\n",
       "  background-color: var(--sklearn-color-fitted-level-0);\n",
       "}\n",
       "\n",
       "/* on hover */\n",
       "#sk-container-id-2 div.sk-estimator:hover {\n",
       "  /* unfitted */\n",
       "  background-color: var(--sklearn-color-unfitted-level-2);\n",
       "}\n",
       "\n",
       "#sk-container-id-2 div.sk-estimator.fitted:hover {\n",
       "  /* fitted */\n",
       "  background-color: var(--sklearn-color-fitted-level-2);\n",
       "}\n",
       "\n",
       "/* Specification for estimator info (e.g. \"i\" and \"?\") */\n",
       "\n",
       "/* Common style for \"i\" and \"?\" */\n",
       "\n",
       ".sk-estimator-doc-link,\n",
       "a:link.sk-estimator-doc-link,\n",
       "a:visited.sk-estimator-doc-link {\n",
       "  float: right;\n",
       "  font-size: smaller;\n",
       "  line-height: 1em;\n",
       "  font-family: monospace;\n",
       "  background-color: var(--sklearn-color-background);\n",
       "  border-radius: 1em;\n",
       "  height: 1em;\n",
       "  width: 1em;\n",
       "  text-decoration: none !important;\n",
       "  margin-left: 1ex;\n",
       "  /* unfitted */\n",
       "  border: var(--sklearn-color-unfitted-level-1) 1pt solid;\n",
       "  color: var(--sklearn-color-unfitted-level-1);\n",
       "}\n",
       "\n",
       ".sk-estimator-doc-link.fitted,\n",
       "a:link.sk-estimator-doc-link.fitted,\n",
       "a:visited.sk-estimator-doc-link.fitted {\n",
       "  /* fitted */\n",
       "  border: var(--sklearn-color-fitted-level-1) 1pt solid;\n",
       "  color: var(--sklearn-color-fitted-level-1);\n",
       "}\n",
       "\n",
       "/* On hover */\n",
       "div.sk-estimator:hover .sk-estimator-doc-link:hover,\n",
       ".sk-estimator-doc-link:hover,\n",
       "div.sk-label-container:hover .sk-estimator-doc-link:hover,\n",
       ".sk-estimator-doc-link:hover {\n",
       "  /* unfitted */\n",
       "  background-color: var(--sklearn-color-unfitted-level-3);\n",
       "  color: var(--sklearn-color-background);\n",
       "  text-decoration: none;\n",
       "}\n",
       "\n",
       "div.sk-estimator.fitted:hover .sk-estimator-doc-link.fitted:hover,\n",
       ".sk-estimator-doc-link.fitted:hover,\n",
       "div.sk-label-container:hover .sk-estimator-doc-link.fitted:hover,\n",
       ".sk-estimator-doc-link.fitted:hover {\n",
       "  /* fitted */\n",
       "  background-color: var(--sklearn-color-fitted-level-3);\n",
       "  color: var(--sklearn-color-background);\n",
       "  text-decoration: none;\n",
       "}\n",
       "\n",
       "/* Span, style for the box shown on hovering the info icon */\n",
       ".sk-estimator-doc-link span {\n",
       "  display: none;\n",
       "  z-index: 9999;\n",
       "  position: relative;\n",
       "  font-weight: normal;\n",
       "  right: .2ex;\n",
       "  padding: .5ex;\n",
       "  margin: .5ex;\n",
       "  width: min-content;\n",
       "  min-width: 20ex;\n",
       "  max-width: 50ex;\n",
       "  color: var(--sklearn-color-text);\n",
       "  box-shadow: 2pt 2pt 4pt #999;\n",
       "  /* unfitted */\n",
       "  background: var(--sklearn-color-unfitted-level-0);\n",
       "  border: .5pt solid var(--sklearn-color-unfitted-level-3);\n",
       "}\n",
       "\n",
       ".sk-estimator-doc-link.fitted span {\n",
       "  /* fitted */\n",
       "  background: var(--sklearn-color-fitted-level-0);\n",
       "  border: var(--sklearn-color-fitted-level-3);\n",
       "}\n",
       "\n",
       ".sk-estimator-doc-link:hover span {\n",
       "  display: block;\n",
       "}\n",
       "\n",
       "/* \"?\"-specific style due to the `<a>` HTML tag */\n",
       "\n",
       "#sk-container-id-2 a.estimator_doc_link {\n",
       "  float: right;\n",
       "  font-size: 1rem;\n",
       "  line-height: 1em;\n",
       "  font-family: monospace;\n",
       "  background-color: var(--sklearn-color-background);\n",
       "  border-radius: 1rem;\n",
       "  height: 1rem;\n",
       "  width: 1rem;\n",
       "  text-decoration: none;\n",
       "  /* unfitted */\n",
       "  color: var(--sklearn-color-unfitted-level-1);\n",
       "  border: var(--sklearn-color-unfitted-level-1) 1pt solid;\n",
       "}\n",
       "\n",
       "#sk-container-id-2 a.estimator_doc_link.fitted {\n",
       "  /* fitted */\n",
       "  border: var(--sklearn-color-fitted-level-1) 1pt solid;\n",
       "  color: var(--sklearn-color-fitted-level-1);\n",
       "}\n",
       "\n",
       "/* On hover */\n",
       "#sk-container-id-2 a.estimator_doc_link:hover {\n",
       "  /* unfitted */\n",
       "  background-color: var(--sklearn-color-unfitted-level-3);\n",
       "  color: var(--sklearn-color-background);\n",
       "  text-decoration: none;\n",
       "}\n",
       "\n",
       "#sk-container-id-2 a.estimator_doc_link.fitted:hover {\n",
       "  /* fitted */\n",
       "  background-color: var(--sklearn-color-fitted-level-3);\n",
       "}\n",
       "</style><div id=\"sk-container-id-2\" class=\"sk-top-container\"><div class=\"sk-text-repr-fallback\"><pre>KNeighborsClassifier()</pre><b>In a Jupyter environment, please rerun this cell to show the HTML representation or trust the notebook. <br />On GitHub, the HTML representation is unable to render, please try loading this page with nbviewer.org.</b></div><div class=\"sk-container\" hidden><div class=\"sk-item\"><div class=\"sk-estimator fitted sk-toggleable\"><input class=\"sk-toggleable__control sk-hidden--visually\" id=\"sk-estimator-id-2\" type=\"checkbox\" checked><label for=\"sk-estimator-id-2\" class=\"sk-toggleable__label fitted sk-toggleable__label-arrow fitted\">&nbsp;&nbsp;KNeighborsClassifier<a class=\"sk-estimator-doc-link fitted\" rel=\"noreferrer\" target=\"_blank\" href=\"https://scikit-learn.org/1.4/modules/generated/sklearn.neighbors.KNeighborsClassifier.html\">?<span>Documentation for KNeighborsClassifier</span></a><span class=\"sk-estimator-doc-link fitted\">i<span>Fitted</span></span></label><div class=\"sk-toggleable__content fitted\"><pre>KNeighborsClassifier()</pre></div> </div></div></div></div>"
      ],
      "text/plain": [
       "KNeighborsClassifier()"
      ]
     },
     "execution_count": 119,
     "metadata": {},
     "output_type": "execute_result"
    }
   ],
   "source": [
    "from sklearn.neighbors import KNeighborsClassifier\n",
    "knn = KNeighborsClassifier(n_neighbors=5)\n",
    "knn.fit(x_train, y_train)"
   ]
  },
  {
   "cell_type": "code",
   "execution_count": 120,
   "id": "ad95872f-e45f-4642-84b1-e8ad422d5785",
   "metadata": {},
   "outputs": [
    {
     "name": "stdout",
     "output_type": "stream",
     "text": [
      "The Predicted values are:  [0 0 1 ... 1 0 1]\n",
      "The Actual values are:  [0 0 1 ... 1 0 1]\n",
      "--------------------------------------------------------------------------------\n",
      "Training Score:  95.13 %\n",
      "Testing Score:  95.78 %\n"
     ]
    }
   ],
   "source": [
    "knn_pred = knn.predict(x_test)\n",
    "print(\"The Predicted values are: \", knn_pred)\n",
    "print(\"The Actual values are: \", y_test)\n",
    "print(\"--\" * 40)\n",
    "\n",
    "print(\"Training Score: \", round(knn.score(x_train, y_train)*100,2), \"%\")\n",
    "print(\"Testing Score: \", round(knn.score(x_test, y_test)*100,2), \"%\")"
   ]
  },
  {
   "cell_type": "markdown",
   "id": "f21dfc11-55cc-42f0-bc51-ea510e07968d",
   "metadata": {},
   "source": [
    "### Confusion Metrics"
   ]
  },
  {
   "cell_type": "code",
   "execution_count": 122,
   "id": "16447248-4221-4329-9976-06075b39d417",
   "metadata": {},
   "outputs": [
    {
     "data": {
      "image/png": "[encoded data removed]",
      "text/plain": [
       "<Figure size 640x480 with 2 Axes>"
      ]
     },
     "metadata": {},
     "output_type": "display_data"
    }
   ],
   "source": [
    "from sklearn.metrics import confusion_matrix, ConfusionMatrixDisplay\n",
    "\n",
    "cm = confusion_matrix(y_test, knn_pred)\n",
    "disp = ConfusionMatrixDisplay(confusion_matrix=cm, display_labels=['No', 'Yes'])\n",
    "disp.plot(cmap='Blues')\n",
    "plt.title(\"Confusion Matrix\")\n",
    "plt.show()"
   ]
  },
  {
   "cell_type": "code",
   "execution_count": 123,
   "id": "9095d38b-3f1e-4029-b1fd-deea924719a9",
   "metadata": {},
   "outputs": [
    {
     "name": "stdout",
     "output_type": "stream",
     "text": [
      "Accuracy       : 0.96\n",
      "Error Rate     : 0.04\n",
      "Precision (Yes): 0.96\n",
      "Recall (Yes)   : 0.97\n",
      "F1 Score (Yes) : 0.97\n"
     ]
    }
   ],
   "source": [
    "from sklearn.metrics import accuracy_score, precision_score, recall_score, f1_score\n",
    "\n",
    "accuracy = accuracy_score(y_test, knn_pred)\n",
    "\n",
    "error = 1 - accuracy\n",
    "\n",
    "precision = precision_score(y_test, knn_pred)\n",
    "\n",
    "recall = recall_score(y_test, knn_pred)\n",
    "\n",
    "f1 = f1_score(y_test, knn_pred)\n",
    "\n",
    "print(f\"Accuracy       : {accuracy:.2f}\")\n",
    "print(f\"Error Rate     : {error:.2f}\")\n",
    "print(f\"Precision (Yes): {precision:.2f}\")\n",
    "print(f\"Recall (Yes)   : {recall:.2f}\")\n",
    "print(f\"F1 Score (Yes) : {f1:.2f}\")\n"
   ]
  },
  {
   "cell_type": "markdown",
   "id": "bb984c81-ec46-4180-a1c2-f594b2a7865c",
   "metadata": {},
   "source": [
    "### Support Vector Machine Classifier"
   ]
  },
  {
   "cell_type": "code",
   "execution_count": 125,
   "id": "3185cb40-71b3-43d8-9bcf-b474d5330741",
   "metadata": {},
   "outputs": [
    {
     "name": "stdout",
     "output_type": "stream",
     "text": [
      "The Predicted values are:  [0 0 1 ... 1 0 1]\n",
      "The Actual values are:  [0 0 1 ... 1 0 1]\n",
      "--------------------------------------------------------------------------------\n",
      "Training Score:  95.85 %\n",
      "Testing Score:  98.54 %\n"
     ]
    }
   ],
   "source": [
    "from sklearn.svm import SVC\n",
    "svm = SVC()\n",
    "svm.fit(x_train, y_train)\n",
    "svm_pred = svm.predict(x_test)\n",
    "print(\"The Predicted values are: \", svm_pred)\n",
    "print(\"The Actual values are: \", y_test)\n",
    "print(\"--\" * 40)\n",
    "print(\"Training Score: \", round(svm.score(x_train, y_train)*100,2), \"%\")\n",
    "print(\"Testing Score: \", round(svm.score(x_test, y_test)*100,2), \"%\")"
   ]
  },
  {
   "cell_type": "markdown",
   "id": "69c26624-1f63-484a-8e38-af1f5111457f",
   "metadata": {},
   "source": [
    "### Cross Validation"
   ]
  },
  {
   "cell_type": "code",
   "execution_count": 127,
   "id": "49cd86f3-0c09-4ab9-ace5-b8c5b3de5b31",
   "metadata": {},
   "outputs": [
    {
     "name": "stdout",
     "output_type": "stream",
     "text": [
      "Training 95.168461578994\n",
      "Testing 99.42258343158704\n"
     ]
    }
   ],
   "source": [
    "from sklearn.model_selection import cross_val_score\n",
    "print(\"Training\",np.mean(cross_val_score(log,x_train,y_train)*100))\n",
    "print(\"Testing\",np.mean(cross_val_score(log,x_test,y_test)*100))"
   ]
  },
  {
   "cell_type": "markdown",
   "id": "b56073b5-d365-4589-9134-5b6c9e5f9306",
   "metadata": {},
   "source": [
    "### Printing all Scores using DataFrame"
   ]
  },
  {
   "cell_type": "code",
   "execution_count": 129,
   "id": "457cfb79-b336-430c-9be4-a4c36579a8c0",
   "metadata": {},
   "outputs": [
    {
     "data": {
      "text/html": [
       "<div>\n",
       "<style scoped>\n",
       "    .dataframe tbody tr th:only-of-type {\n",
       "        vertical-align: middle;\n",
       "    }\n",
       "\n",
       "    .dataframe tbody tr th {\n",
       "        vertical-align: top;\n",
       "    }\n",
       "\n",
       "    .dataframe thead th {\n",
       "        text-align: right;\n",
       "    }\n",
       "</style>\n",
       "<table border=\"1\" class=\"dataframe\">\n",
       "  <thead>\n",
       "    <tr style=\"text-align: right;\">\n",
       "      <th></th>\n",
       "      <th>Training Score</th>\n",
       "      <th>Test Score</th>\n",
       "    </tr>\n",
       "  </thead>\n",
       "  <tbody>\n",
       "    <tr>\n",
       "      <th>Logistic Regression</th>\n",
       "      <td>95.200689</td>\n",
       "      <td>100.000000</td>\n",
       "    </tr>\n",
       "    <tr>\n",
       "      <th>Decision Tress Classifier</th>\n",
       "      <td>99.989239</td>\n",
       "      <td>94.503012</td>\n",
       "    </tr>\n",
       "    <tr>\n",
       "      <th>Random Forest Classifier</th>\n",
       "      <td>99.989239</td>\n",
       "      <td>98.067269</td>\n",
       "    </tr>\n",
       "    <tr>\n",
       "      <th>Support Vector Machine Classifier</th>\n",
       "      <td>95.846336</td>\n",
       "      <td>98.544177</td>\n",
       "    </tr>\n",
       "    <tr>\n",
       "      <th>K Nearest Neighbor Classifier</th>\n",
       "      <td>95.125363</td>\n",
       "      <td>95.783133</td>\n",
       "    </tr>\n",
       "  </tbody>\n",
       "</table>\n",
       "</div>"
      ],
      "text/plain": [
       "                                   Training Score  Test Score\n",
       "Logistic Regression                     95.200689  100.000000\n",
       "Decision Tress Classifier               99.989239   94.503012\n",
       "Random Forest Classifier                99.989239   98.067269\n",
       "Support Vector Machine Classifier       95.846336   98.544177\n",
       "K Nearest Neighbor Classifier           95.125363   95.783133"
      ]
     },
     "execution_count": 129,
     "metadata": {},
     "output_type": "execute_result"
    }
   ],
   "source": [
    "all_scores = pd.DataFrame({'Logistic Regression': ((log.score(x_train, y_train))*100, (log.score(x_test, y_test))*100),\n",
    "                           'Decision Tress Classifier': ((dt.score(x_train, y_train))*100, (dt.score(x_test, y_test))*100),\n",
    "                           'Random Forest Classifier': ((rf.score(x_train, y_train))*100, (rf.score(x_test, y_test))*100),\n",
    "                           'Support Vector Machine Classifier': ((svm.score(x_train, y_train))*100, (svm.score(x_test, y_test))*100),\n",
    "                           'K Nearest Neighbor Classifier': ((knn.score(x_train, y_train))*100, (knn.score(x_test, y_test))*100)})\n",
    "all_scores.T.rename(columns = {0:'Training Score', 1 : 'Test Score'})\n",
    "     \n",
    "     "
   ]
  },
  {
   "cell_type": "markdown",
   "id": "560f5cfb-2a16-4e2c-b0f8-43b26f908ee5",
   "metadata": {},
   "source": [
    "### Observation"
   ]
  },
  {
   "cell_type": "markdown",
   "id": "89e5e5f1-221c-45c9-adea-77faa1cce066",
   "metadata": {},
   "source": [
    "1.Logistic Regression performs well on both testing data than in training data, makes the model underfit.<br>\n",
    "2.Decision tree classifier performs good in training data but not on testing data , shows overfitting.<br>\n",
    "3.Random forest classifier shows good fit and generalization.<br>\n",
    "4.SVM shows good performance but slightly underfit.<br>\n",
    "5.Knn indicates balanced accuracy."
   ]
  },
  {
   "cell_type": "code",
   "execution_count": null,
   "id": "fb91e180-c09c-4e5b-b937-3d3ed13ee4b0",
   "metadata": {},
   "outputs": [],
   "source": []
  }
 ],
 "metadata": {
  "kernelspec": {
   "display_name": "Python [conda env:base] *",
   "language": "python",
   "name": "conda-base-py"
  },
  "language_info": {
   "codemirror_mode": {
    "name": "ipython",
    "version": 3
   },
   "file_extension": ".py",
   "mimetype": "text/x-python",
   "name": "python",
   "nbconvert_exporter": "python",
   "pygments_lexer": "ipython3",
   "version": "3.12.4"
  }
 },
 "nbformat": 4,
 "nbformat_minor": 5
}
